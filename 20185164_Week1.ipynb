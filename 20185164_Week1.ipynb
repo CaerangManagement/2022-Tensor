{
 "cells": [
  {
   "cell_type": "markdown",
   "id": "593c4a7e-eba6-4e3e-b2db-b077bee23cc3",
   "metadata": {},
   "source": [
    "### 1. 두 자연수 a,b를 입력받아 a/b의 결과를 소수점 20번째 자리까지 출력"
   ]
  },
  {
   "cell_type": "code",
   "execution_count": 9,
   "id": "ec3a848b-8a7b-4821-b84f-104faf54e0f3",
   "metadata": {},
   "outputs": [
    {
     "name": "stdin",
     "output_type": "stream",
     "text": [
      " 3 5\n"
     ]
    },
    {
     "name": "stdout",
     "output_type": "stream",
     "text": [
      "0.60000000000000000000\n"
     ]
    }
   ],
   "source": [
    "from decimal import *\n",
    "a, b = map(int, input().split())\n",
    "getcontext().prec = 20\n",
    "c = Decimal(a) / Decimal(b)\n",
    "print('{:.20f}'.format(c))"
   ]
  },
  {
   "cell_type": "markdown",
   "id": "db0f4a45-42a9-41a1-9941-9982b7f90a17",
   "metadata": {},
   "source": [
    "### 2. 서로 다른 n개의 자연수의 합 S, S가 주어졌을때 자연수 n개의 자연수 중 최댓값"
   ]
  },
  {
   "cell_type": "code",
   "execution_count": 10,
   "id": "8341e816-fcee-4628-b335-4f179c4b96e7",
   "metadata": {},
   "outputs": [
    {
     "name": "stdin",
     "output_type": "stream",
     "text": [
      " 200\n"
     ]
    },
    {
     "name": "stdout",
     "output_type": "stream",
     "text": [
      "19\n"
     ]
    }
   ],
   "source": [
    "s = int(input())\n",
    "num = 1\n",
    "sum = 0\n",
    "while(True):\n",
    "    num+=1\n",
    "    if num*(num+1)/2 > s:\n",
    "        break\n",
    "print(num-1)"
   ]
  },
  {
   "cell_type": "markdown",
   "id": "300046f0-0ae8-4de8-82ee-23c7c2b2cea8",
   "metadata": {},
   "source": [
    "### 3. CNN 222-Pooling"
   ]
  },
  {
   "cell_type": "code",
   "execution_count": 134,
   "id": "7bf7c140-6828-4579-a3fe-e0dce1c7b8dd",
   "metadata": {},
   "outputs": [
    {
     "name": "stdin",
     "output_type": "stream",
     "text": [
      " 8\n"
     ]
    },
    {
     "name": "stdout",
     "output_type": "stream",
     "text": [
      "tensor([[-3721, -8544,  -621, -9827,  -499, -6637, -1115,  5064],\n",
      "        [-2496, -6768, -3604, -1756, -8911, -9525,  4802,  3126],\n",
      "        [ 1990,  3673, -7377,  -381,  9817,  4307,  6870, -2476],\n",
      "        [ 3091,  3399, -4311, -7038,  2826,  9181, -4698, -9126],\n",
      "        [-4015,  3773, -3809,   741, -9284,  4559,  9635,  4560],\n",
      "        [ 8315,  9673,  3612,  -390,  7700,  6529, -7052, -5651],\n",
      "        [ 5567,  9858,  7616,  7326, -2570,  7571, -2458,  4121],\n",
      "        [-2486,   240, -7487, -3407,  3078,  3318,  2222,  6515]])\n",
      "tensor([[4802.]])\n"
     ]
    }
   ],
   "source": [
    "import torch\n",
    "import torch.nn as nn\n",
    "import math\n",
    "def my_pool(mat, kernels=2, stride =2): ## 222 pooling 을 한번 실행하는 my_pool 함수 선언\n",
    "    x,y = mat.shape\n",
    "    ret = torch.zeros((x//2, x//2))\n",
    "    ret_x = 0\n",
    "    ret_y = 0\n",
    "    for i in range(0, x//2): \n",
    "        for j in range(0, y//2):\n",
    "            f = []\n",
    "            f.append(int(mat[2*i][2*j])) \n",
    "            f.append(int(mat[2*i][2*j+1]))\n",
    "            f.append(int(mat[2*i+1][2*j]))\n",
    "            f.append(int(mat[2*i+1][2*j+1]))\n",
    "            f.sort(reverse=True)\n",
    "            ret[i][j] = f[1]\n",
    "    return ret\n",
    "k = int(input())\n",
    "a = torch.randint(-10000,10001,(k,k))\n",
    "\n",
    "print(a)\n",
    "while(a.shape[0]!=1):\n",
    "    a=my_pool(a)\n",
    "print(a)"
   ]
  },
  {
   "cell_type": "code",
   "execution_count": null,
   "id": "4c2ed925-f88c-4d3d-ab70-18a0b23e174f",
   "metadata": {},
   "outputs": [],
   "source": []
  }
 ],
 "metadata": {
  "kernelspec": {
   "display_name": "Python 3 (ipykernel)",
   "language": "python",
   "name": "python3"
  },
  "language_info": {
   "codemirror_mode": {
    "name": "ipython",
    "version": 3
   },
   "file_extension": ".py",
   "mimetype": "text/x-python",
   "name": "python",
   "nbconvert_exporter": "python",
   "pygments_lexer": "ipython3",
   "version": "3.9.12"
  }
 },
 "nbformat": 4,
 "nbformat_minor": 5
}
