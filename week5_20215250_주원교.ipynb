{
 "cells": [
  {
   "cell_type": "code",
   "execution_count": 4,
   "id": "6d16123d-04ce-4536-bf5c-db6dc6f2dfd6",
   "metadata": {
    "tags": []
   },
   "outputs": [
    {
     "name": "stdin",
     "output_type": "stream",
     "text": [
      " 5\n",
      " OOXXOXXOOO\n"
     ]
    },
    {
     "name": "stdout",
     "output_type": "stream",
     "text": [
      "10\n"
     ]
    },
    {
     "name": "stdin",
     "output_type": "stream",
     "text": [
      " OOXXOOXXOO\n"
     ]
    },
    {
     "name": "stdout",
     "output_type": "stream",
     "text": [
      "9\n"
     ]
    },
    {
     "name": "stdin",
     "output_type": "stream",
     "text": [
      " OXOXOXOXOXOXOX\n"
     ]
    },
    {
     "name": "stdout",
     "output_type": "stream",
     "text": [
      "7\n"
     ]
    },
    {
     "name": "stdin",
     "output_type": "stream",
     "text": [
      " OOOOOOOOOO\n"
     ]
    },
    {
     "name": "stdout",
     "output_type": "stream",
     "text": [
      "55\n"
     ]
    },
    {
     "name": "stdin",
     "output_type": "stream",
     "text": [
      " OOOOXOOOOXOOOOX\n"
     ]
    },
    {
     "name": "stdout",
     "output_type": "stream",
     "text": [
      "30\n"
     ]
    }
   ],
   "source": [
    "#문제1\n",
    "\n",
    "n = int(input())\n",
    "\n",
    "for k in range(n):\n",
    "    aa = list(input())\n",
    "    score = 0\n",
    "    sum_score = 0\n",
    "    for a in  aa:\n",
    "        if a == 'O':\n",
    "            score += 1\n",
    "            sum_score += score\n",
    "        else:\n",
    "            score = 0\n",
    "    print(sum_score)"
   ]
  },
  {
   "cell_type": "code",
   "execution_count": 6,
   "id": "fdd84ef2-3904-498d-8ad4-da342491ebe8",
   "metadata": {},
   "outputs": [
    {
     "name": "stdin",
     "output_type": "stream",
     "text": [
      " 10\n"
     ]
    },
    {
     "name": "stdout",
     "output_type": "stream",
     "text": [
      "55\n"
     ]
    }
   ],
   "source": [
    "#문제2\n",
    "\n",
    "n = int(input())\n",
    "\n",
    "a = [i for i in range(n+1)]\n",
    "a[1] = 1\n",
    "\n",
    "for i in range(2, n+1):\n",
    "    a[i] = a[i-1] + a[i-2]\n",
    "    \n",
    "print(a[-1])"
   ]
  },
  {
   "cell_type": "code",
   "execution_count": 10,
   "id": "bdfd3346-584d-416b-bdb7-95c984aab4c9",
   "metadata": {},
   "outputs": [
    {
     "name": "stdin",
     "output_type": "stream",
     "text": [
      " 4\n",
      " 1 3 5 7\n"
     ]
    },
    {
     "name": "stdout",
     "output_type": "stream",
     "text": [
      "3\n"
     ]
    }
   ],
   "source": [
    "#문제3\n",
    "\n",
    "n = int(input())\n",
    "num = map(int, input().split())\n",
    "a = 0\n",
    "\n",
    "for k in num:\n",
    "    err = 0\n",
    "    if k>1:\n",
    "        for i in range(2, k):\n",
    "            if k % i ==0:\n",
    "                err +=1\n",
    "        if err == 0:\n",
    "            a += 1\n",
    "print(a)"
   ]
  },
  {
   "cell_type": "code",
   "execution_count": 17,
   "id": "c5429d1d-6798-4660-915c-e87354a542d4",
   "metadata": {},
   "outputs": [
    {
     "name": "stdin",
     "output_type": "stream",
     "text": [
      " 5\n",
      " okpo sacheon hansan myeongnyang noryang\n",
      " sacheon hansan myeongnyang noryang okpo\n"
     ]
    },
    {
     "name": "stdout",
     "output_type": "stream",
     "text": [
      "6/10\n"
     ]
    }
   ],
   "source": [
    "#문제4\n",
    "\n",
    "n = int(input())\n",
    "ans = input().split()\n",
    "d = {}\n",
    "for i in range(n):\n",
    "    d[ans[i]] = i\n",
    "hwAnswer = input().split()\n",
    "cnt = 0\n",
    "for i in range(n-1):\n",
    "    for j in range(i+1, n):\n",
    "        if d[hwAnswer[i]]< d[hwAnswer[j]]:\n",
    "            cnt+=1\n",
    "print(f\"{cnt}/{n*(n-1)//2}\")"
   ]
  }
 ],
 "metadata": {
  "kernelspec": {
   "display_name": "Python 3 (ipykernel)",
   "language": "python",
   "name": "python3"
  },
  "language_info": {
   "codemirror_mode": {
    "name": "ipython",
    "version": 3
   },
   "file_extension": ".py",
   "mimetype": "text/x-python",
   "name": "python",
   "nbconvert_exporter": "python",
   "pygments_lexer": "ipython3",
   "version": "3.9.7"
  }
 },
 "nbformat": 4,
 "nbformat_minor": 5
}
