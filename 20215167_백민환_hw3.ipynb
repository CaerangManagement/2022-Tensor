{
  "nbformat": 4,
  "nbformat_minor": 0,
  "metadata": {
    "colab": {
      "name": "20215167_백민환_hw3.ipynb",
      "provenance": [],
      "authorship_tag": "ABX9TyP9B9Q/+7H7X+L9eXlesV0G",
      "include_colab_link": true
    },
    "kernelspec": {
      "name": "python3",
      "display_name": "Python 3"
    },
    "language_info": {
      "name": "python"
    }
  },
  "cells": [
    {
      "cell_type": "markdown",
      "metadata": {
        "id": "view-in-github",
        "colab_type": "text"
      },
      "source": [
        "<a href=\"https://colab.research.google.com/github/bmh2350/2022-Tensor/blob/main/20215167_%EB%B0%B1%EB%AF%BC%ED%99%98_hw3.ipynb\" target=\"_parent\"><img src=\"https://colab.research.google.com/assets/colab-badge.svg\" alt=\"Open In Colab\"/></a>"
      ]
    },
    {
      "cell_type": "code",
      "execution_count": null,
      "metadata": {
        "colab": {
          "base_uri": "https://localhost:8080/"
        },
        "id": "YvjBJoL5w4Rx",
        "outputId": "760bf790-d965-4d8d-926d-d45cd6c43390"
      },
      "outputs": [
        {
          "output_type": "stream",
          "name": "stdout",
          "text": [
            "2\n",
            "10\n",
            "5 5\n",
            "2\n"
          ]
        }
      ],
      "source": [
        "n = int(input())\n",
        "Ai = int(input())\n",
        "b,c = input().split()\n",
        "a=0\n",
        "b = int(b)\n",
        "c = int(c)  \n",
        "if(n*b<Ai):\n",
        "  print((Ai/n-b)/c+1)\n",
        "else:\n",
        "  print(n)"
      ]
    },
    {
      "cell_type": "code",
      "source": [
        "z = int(input())\n",
        "list=[]\n",
        "list1=[]\n",
        "list2=[]\n",
        "for i in range(z):\n",
        "  x,y = input().split()\n",
        "  x = int(x)\n",
        "  y = int(y) \n",
        "  list.append(x)\n",
        "  list.extend([y])\n",
        "for i in range(len(list)):\n",
        "  if(i%2==0):\n",
        "    list1.append(list[i])\n",
        "  else:\n",
        "    list2.append(list[i])\n",
        "\n",
        "temp=0\n",
        "for j in range(len(list1)):\n",
        "  for i in range(len(list1)):\n",
        "    if(list1[j]<list1[i]):\n",
        "      temp=list1[j]\n",
        "      list1[j]=list1[i]\n",
        "      list1[i]=temp\n",
        "      temp=list2[j]\n",
        "      list2[j]=list2[i]\n",
        "      list2[i]=temp\n",
        "\n",
        "\n",
        "for j in range(len(list1)):\n",
        "  for i in range(len(list1)):\n",
        "    if(list1[j]==list1[i]and list2[min]>list2[j]):\n",
        "      temp=list2[j]\n",
        "      list2[j]=list2[i]\n",
        "      list2[i]=temp\n",
        "  \n",
        "for i in range(len(list1)):\n",
        "  print(list1[i],end=' ')\n",
        "  print(list2[i],end='\\n')"
      ],
      "metadata": {
        "colab": {
          "base_uri": "https://localhost:8080/"
        },
        "id": "gj90v73jxINF",
        "outputId": "98d44a80-2fa8-4640-c64b-02a0e208c7d7"
      },
      "execution_count": null,
      "outputs": [
        {
          "output_type": "stream",
          "name": "stdout",
          "text": [
            "5\n",
            "3 4\n",
            "1 1\n",
            "1 -1\n",
            "2 2\n",
            "3 3\n",
            "1 1\n",
            "1 -1\n",
            "2 2\n",
            "3 3\n",
            "3 4\n"
          ]
        }
      ]
    },
    {
      "cell_type": "code",
      "source": [
        "513"
      ],
      "metadata": {
        "id": "gytBZpVSajkt"
      },
      "execution_count": null,
      "outputs": []
    }
  ]
}