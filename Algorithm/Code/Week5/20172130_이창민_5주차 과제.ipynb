{
 "cells": [
  {
   "cell_type": "code",
   "execution_count": 2,
   "id": "85842cf8",
   "metadata": {},
   "outputs": [
    {
     "name": "stdout",
     "output_type": "stream",
     "text": [
      "5\n",
      "OOXXOXXOOO\n",
      "OOXXOOXXOO\n",
      "OXOXOXOXOXOXOX\n",
      "OOOOOOOOOO\n",
      "OOOOXOOOOXOOOOX\n",
      "10\n",
      "9\n",
      "7\n",
      "55\n",
      "30\n"
     ]
    }
   ],
   "source": [
    "# n는 case개수, case_lst에 케이스 문자열 저장\n",
    "n = int(input())\n",
    "case_lst = list()\n",
    "\n",
    "# 문자열 입력받고 case_lst에 저장\n",
    "for i in range(n):\n",
    "    str = input()\n",
    "    case_lst.append(str)\n",
    "\n",
    "# OX에서 점수내는 과정 n번만큼 반복\n",
    "for i in range(n):\n",
    "    # case에 case_lst에 저장된 문자열 한글자씩 리스트에 넣기\n",
    "    case = list(case_lst[i])\n",
    "    score = 0\n",
    "    total = 0\n",
    "    \n",
    "    # OX에서 점수 도출\n",
    "    for j in range(len(case)):\n",
    "        if case[j] == 'O':\n",
    "            score = score + 1\n",
    "            total = total + score\n",
    "        else:\n",
    "            score = 0\n",
    "    \n",
    "    # 점수 출력\n",
    "    print(total)\n",
    "    "
   ]
  },
  {
   "cell_type": "code",
   "execution_count": null,
   "id": "7e8af6da",
   "metadata": {},
   "outputs": [],
   "source": [
    "# n번째 피보나치 수를 구하기 위한 n을 입력받기\n",
    "n = int(input())\n",
    "fibonacci_lst = list()\n",
    "\n",
    "# 피보나치 수열의 1,2번째에 각각 0,1 입력\n",
    "fibonacci_lst.append(0)\n",
    "fibonacci_lst.append(1)\n",
    "\n",
    "# n번째 피보나치 수까지 수열 만들기\n",
    "for i in range(n-1):\n",
    "    fib = fibonacci_lst[i] + fibonacci_lst[i+1]\n",
    "    fibonacci_lst.append(fib)\n",
    "\n",
    "# n번째 피보나치 수 출력\n",
    "print(fibonacci_lst[n])"
   ]
  },
  {
   "cell_type": "code",
   "execution_count": 13,
   "id": "175ccfd8",
   "metadata": {},
   "outputs": [
    {
     "name": "stdout",
     "output_type": "stream",
     "text": [
      "4\n",
      "1 3 5 7\n",
      "3\n"
     ]
    }
   ],
   "source": [
    "# n은 입력받을 수의 개수, prime_test는 소수 검증을 위한 리스트 입력받기\n",
    "n = int(input())\n",
    "prime_test = list(map(int, input().split()))\n",
    "# prime은 소수의 개수\n",
    "prime = 0\n",
    "\n",
    "# 소수를 검증하는 함수\n",
    "def is_prime_number(x):\n",
    "    if x == 1:\n",
    "        return False\n",
    "    for i in range(2, x):\n",
    "        if x % i == 0:\n",
    "            return False\n",
    "    return True\n",
    "\n",
    "# 입력받은 수가 소수인지 검증하기\n",
    "for j in range(n):\n",
    "    if is_prime_number(prime_test[j]):\n",
    "        prime = prime + 1\n",
    "\n",
    "# 입력받은 수 중에 소수의 개수 출력\n",
    "print(prime)\n"
   ]
  },
  {
   "cell_type": "code",
   "execution_count": 24,
   "id": "87b72cea",
   "metadata": {},
   "outputs": [
    {
     "name": "stdout",
     "output_type": "stream",
     "text": [
      "5\n",
      "okpo sacheon hansan myeongnyang noryang\n",
      "sacheon hansan myeongnyang noryang okpo\n",
      "6/10\n"
     ]
    }
   ],
   "source": [
    "n = int(input())\n",
    "seaFight_cor = list(input().split())\n",
    "seaFight_ans = list(input().split())\n",
    "a, b = 0, 0\n",
    "seaFight_ord = list()\n",
    "\n",
    "for i in range(n):\n",
    "    for j in range(n):\n",
    "        if seaFight_ans[i] == seaFight_cor[j]:\n",
    "            seaFight_ord.append(j+1)\n",
    "            break\n",
    "\n",
    "for i in range(n):\n",
    "    for j in range(i+1,n):\n",
    "        b = b + 1\n",
    "        if seaFight_ord[i] < seaFight_ord[j]:\n",
    "            a = a + 1\n",
    "\n",
    "print(a,b,sep='/')\n",
    "        "
   ]
  }
 ],
 "metadata": {
  "kernelspec": {
   "display_name": "Python 3 (ipykernel)",
   "language": "python",
   "name": "python3"
  },
  "language_info": {
   "codemirror_mode": {
    "name": "ipython",
    "version": 3
   },
   "file_extension": ".py",
   "mimetype": "text/x-python",
   "name": "python",
   "nbconvert_exporter": "python",
   "pygments_lexer": "ipython3",
   "version": "3.9.7"
  }
 },
 "nbformat": 4,
 "nbformat_minor": 5
}
