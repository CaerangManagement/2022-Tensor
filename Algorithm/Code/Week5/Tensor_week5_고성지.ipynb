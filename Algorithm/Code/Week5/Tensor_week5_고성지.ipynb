{
 "cells": [
  {
   "cell_type": "markdown",
   "id": "50351e6e-6102-4757-8792-34341e7e022f",
   "metadata": {},
   "source": [
    "# 20185103 고성지 텐서 알고리즘 과제"
   ]
  },
  {
   "cell_type": "markdown",
   "id": "7bd866e7-2cce-4bb3-8252-9ca03307b766",
   "metadata": {},
   "source": [
    "\n",
    "# 문제 1 OX 퀴즈"
   ]
  },
  {
   "cell_type": "code",
   "execution_count": 26,
   "id": "49219c16-7a17-4e10-901f-69b49fc8441f",
   "metadata": {},
   "outputs": [
    {
     "name": "stdin",
     "output_type": "stream",
     "text": [
      " 6\n",
      " OOOXOXO\n"
     ]
    },
    {
     "name": "stdout",
     "output_type": "stream",
     "text": [
      "8\n"
     ]
    },
    {
     "name": "stdin",
     "output_type": "stream",
     "text": [
      " OXOXOOOOOO\n"
     ]
    },
    {
     "name": "stdout",
     "output_type": "stream",
     "text": [
      "23\n"
     ]
    },
    {
     "name": "stdin",
     "output_type": "stream",
     "text": [
      " OOOOOOO\n"
     ]
    },
    {
     "name": "stdout",
     "output_type": "stream",
     "text": [
      "28\n"
     ]
    },
    {
     "name": "stdin",
     "output_type": "stream",
     "text": [
      " OOXOOXOX\n"
     ]
    },
    {
     "name": "stdout",
     "output_type": "stream",
     "text": [
      "7\n"
     ]
    },
    {
     "name": "stdin",
     "output_type": "stream",
     "text": [
      " OXOXOXOXOO\n"
     ]
    },
    {
     "name": "stdout",
     "output_type": "stream",
     "text": [
      "7\n"
     ]
    },
    {
     "name": "stdin",
     "output_type": "stream",
     "text": [
      " XXXX\n"
     ]
    },
    {
     "name": "stdout",
     "output_type": "stream",
     "text": [
      "0\n"
     ]
    }
   ],
   "source": [
    "N = int(input())\n",
    "\n",
    "for _ in range(N):\n",
    "    continuity = 0\n",
    "    sumNum = 0\n",
    "    ox = input()\n",
    "    for i in ox:\n",
    "        if i == 'O':\n",
    "            continuity += 1\n",
    "            sumNum += continuity\n",
    "\n",
    "        else:\n",
    "            continuity = 0\n",
    "    print(sumNum)\n"
   ]
  },
  {
   "cell_type": "markdown",
   "id": "bbd3ee53-d7da-4a27-bda2-444c8d92015f",
   "metadata": {},
   "source": [
    "# 문제 2 피보나치 수 2"
   ]
  },
  {
   "cell_type": "code",
   "execution_count": 109,
   "id": "219b89b6-792e-4834-8499-31a4ded066bc",
   "metadata": {},
   "outputs": [
    {
     "name": "stdin",
     "output_type": "stream",
     "text": [
      " 90\n"
     ]
    },
    {
     "name": "stdout",
     "output_type": "stream",
     "text": [
      "2880067194370816120\n"
     ]
    }
   ],
   "source": [
    "n = int(input())\n",
    "fibo = [0, 1]\n",
    "\n",
    "if n == 1:\n",
    "    print(1)\n",
    "\n",
    "    \n",
    "else:\n",
    "    for i in range(n):\n",
    "        fibo.append(fibo[i] + fibo[i+1])\n",
    "        \n",
    "    print(fibo[n])"
   ]
  },
  {
   "cell_type": "markdown",
   "id": "87353cbc-1c9b-4e9f-8ea3-e90d46c880d9",
   "metadata": {},
   "source": [
    "\n",
    "# 문제 3 소수찾기"
   ]
  },
  {
   "cell_type": "code",
   "execution_count": 118,
   "id": "6866c180-a8e7-478d-9618-cca50a91edce",
   "metadata": {},
   "outputs": [
    {
     "name": "stdin",
     "output_type": "stream",
     "text": [
      " 1\n",
      " 1\n"
     ]
    },
    {
     "name": "stdout",
     "output_type": "stream",
     "text": [
      "0\n"
     ]
    }
   ],
   "source": [
    "def isDecimal(num):\n",
    "    for i in range(2, num):\n",
    "        if num % i == 0:\n",
    "            return False\n",
    "        \n",
    "    return True\n",
    "\n",
    "input()\n",
    "nums = map(int, input().split())\n",
    "\n",
    "cnt = 0\n",
    "\n",
    "for n in nums:\n",
    "    if n == 1:\n",
    "        continue\n",
    "        \n",
    "    if isDecimal(n):\n",
    "        cnt += 1\n",
    "        \n",
    "print(cnt)"
   ]
  },
  {
   "cell_type": "markdown",
   "id": "8a71fc25-6c5d-404a-97ad-80ee7e303972",
   "metadata": {},
   "source": [
    "# 문제 4. 임진왜란"
   ]
  },
  {
   "cell_type": "code",
   "execution_count": 134,
   "id": "6bba9a70-5592-4d65-8ce5-8c2f8b8f341b",
   "metadata": {},
   "outputs": [
    {
     "name": "stdin",
     "output_type": "stream",
     "text": [
      " 3\n",
      " alpha beta gamma\n",
      " alpha gamma beta\n"
     ]
    },
    {
     "name": "stdout",
     "output_type": "stream",
     "text": [
      "2/3\n"
     ]
    }
   ],
   "source": [
    "n = int(input())\n",
    "perfect_score = n*(n-1)//2\n",
    "\n",
    "answer = input().split()\n",
    "test = input().split()\n",
    "\n",
    "answer_dic = {}\n",
    "for idx, val in enumerate(answer):\n",
    "    answer_dic[val] = idx\n",
    "\n",
    "test_num = []\n",
    "for i in test:\n",
    "    test_num.append(answer_dic[i])\n",
    "    \n",
    "cnt = 0\n",
    "\n",
    "for i in range(n):\n",
    "    for j in range(i+1, n):\n",
    "        if test_num[i] < test_num[j]:\n",
    "            cnt += 1\n",
    "\n",
    "print(f'{cnt}/{perfect_score}')"
   ]
  }
 ],
 "metadata": {
  "kernelspec": {
   "display_name": "Python 3 (ipykernel)",
   "language": "python",
   "name": "python3"
  },
  "language_info": {
   "codemirror_mode": {
    "name": "ipython",
    "version": 3
   },
   "file_extension": ".py",
   "mimetype": "text/x-python",
   "name": "python",
   "nbconvert_exporter": "python",
   "pygments_lexer": "ipython3",
   "version": "3.9.12"
  }
 },
 "nbformat": 4,
 "nbformat_minor": 5
}
