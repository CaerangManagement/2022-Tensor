{
 "cells": [
  {
   "cell_type": "markdown",
   "id": "184c8638",
   "metadata": {},
   "source": [
    "### 문제 1 OX 퀴즈 (백준 8958)"
   ]
  },
  {
   "cell_type": "code",
   "execution_count": 2,
   "id": "e89ce5ae",
   "metadata": {},
   "outputs": [
    {
     "name": "stdout",
     "output_type": "stream",
     "text": [
      "5\n",
      "OOXXOXXOOO\n",
      "OOXXOOXXOO\n",
      "OXOXOXOXOXOXOX\n",
      "OOOOOOOOOO\n",
      "OOOOXOOOOXOOOOX\n",
      "10\n",
      "9\n",
      "7\n",
      "55\n",
      "30\n"
     ]
    }
   ],
   "source": [
    "result = int(input()) # 테스트 케이스의 개수\n",
    "arr = [] # 점수를 저장할 리스트\n",
    "\n",
    "for i in range (0, result) :\n",
    "    ox = input()\n",
    "    score = 0\n",
    "    num = 0\n",
    "    \n",
    "    for j in range(len(ox)) :\n",
    "        if (ox[j] == 'O') :\n",
    "            num += 1\n",
    "            score += num\n",
    "        else :\n",
    "            num = 0\n",
    "    arr.append(score)\n",
    "        \n",
    "for i in arr :\n",
    "    print(i)"
   ]
  },
  {
   "cell_type": "markdown",
   "id": "d302a374",
   "metadata": {},
   "source": [
    "### 문제 2 피보나치 수 2 (백준 2748)"
   ]
  },
  {
   "cell_type": "code",
   "execution_count": 3,
   "id": "76069db9",
   "metadata": {},
   "outputs": [
    {
     "name": "stdout",
     "output_type": "stream",
     "text": [
      "10\n"
     ]
    },
    {
     "data": {
      "text/plain": [
       "55"
      ]
     },
     "execution_count": 3,
     "metadata": {},
     "output_type": "execute_result"
    }
   ],
   "source": [
    "def fib(n) : # 피보나치 수열을 구하기 위한 함수\n",
    "    if (n <= 0) :\n",
    "        return 0\n",
    "    elif (n == 1) :\n",
    "        return 1\n",
    "    else :\n",
    "        return (fib(n - 1) + fib(n - 2))\n",
    "    \n",
    "num = int(input()) # n번째 피보나치 수를 구하기 위한 n\n",
    "fib(num)"
   ]
  },
  {
   "cell_type": "markdown",
   "id": "d6df99ed",
   "metadata": {},
   "source": [
    "### 문제 3 소수찾기 (백준 1978)"
   ]
  },
  {
   "cell_type": "code",
   "execution_count": 4,
   "id": "ab700931",
   "metadata": {},
   "outputs": [
    {
     "name": "stdout",
     "output_type": "stream",
     "text": [
      "4\n",
      "1 3 5 7\n",
      "3\n"
     ]
    }
   ],
   "source": [
    "num = int(input()) # 수의 개수 N\n",
    "arr = list(map(int, input().split())) # 입력받은 수를 저장하기 위한 리스트\n",
    "result = 0 # 소수의 개수\n",
    "\n",
    "for i in arr :\n",
    "    if (i == 1) :\n",
    "        continue\n",
    "        \n",
    "    for j in range(2, i+1) :\n",
    "        if (i % j == 0) :\n",
    "            if (i == j) :\n",
    "                result += 1\n",
    "            break\n",
    "            \n",
    "print(result)"
   ]
  },
  {
   "cell_type": "markdown",
   "id": "369f0bee",
   "metadata": {},
   "source": [
    "### 문제 5 잃어버린 괄호 (백준 1541)"
   ]
  },
  {
   "cell_type": "code",
   "execution_count": 5,
   "id": "fc1292e6",
   "metadata": {},
   "outputs": [
    {
     "name": "stdout",
     "output_type": "stream",
     "text": [
      "55-50+40\n",
      "-35\n"
     ]
    }
   ],
   "source": [
    "ex = input().split('-') # '-'를 기준으로 분리해서 리스트에 저장\n",
    "arr = [] # 합을 저장할 리스트\n",
    "\n",
    "for i in ex :\n",
    "    sum = 0\n",
    "    for j in i.split('+') :\n",
    "        sum += int(j)\n",
    "    arr.append(sum)\n",
    "    \n",
    "result = arr[0]\n",
    "for i in range(1, len(arr)) :\n",
    "    result -= arr[i]\n",
    "    \n",
    "print(result)"
   ]
  }
 ],
 "metadata": {
  "kernelspec": {
   "display_name": "Python 3 (ipykernel)",
   "language": "python",
   "name": "python3"
  },
  "language_info": {
   "codemirror_mode": {
    "name": "ipython",
    "version": 3
   },
   "file_extension": ".py",
   "mimetype": "text/x-python",
   "name": "python",
   "nbconvert_exporter": "python",
   "pygments_lexer": "ipython3",
   "version": "3.9.12"
  }
 },
 "nbformat": 4,
 "nbformat_minor": 5
}
