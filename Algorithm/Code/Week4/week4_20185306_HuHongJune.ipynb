{
 "cells": [
  {
   "cell_type": "markdown",
   "id": "7b29ea02-daa1-4c49-bd21-50b4e83733f2",
   "metadata": {},
   "source": [
    "양수 A가 N의 진짜 약수가 되려면, N이 A의 배수이고, A가 1과 N이 아니어야 한다. \n",
    "어떤 수 N의 진짜 약수가 모두 주어질 때, N을 구하는 프로그램을 작성하시오."
   ]
  },
  {
   "cell_type": "code",
   "execution_count": null,
   "id": "76fc0c60-af09-4400-8459-ab2edbb47975",
   "metadata": {},
   "outputs": [],
   "source": [
    "count = int(input())\n",
    "A = input()\n",
    "B = []\n",
    "B = A.split()\n",
    "B = list(map(int, B))\n",
    "B.sort()\n",
    "\n",
    "print(B[0] * B[len(B)-1])"
   ]
  },
  {
   "cell_type": "markdown",
   "id": "d59623a1-4b9a-4cfe-ac78-5f2603b39dc5",
   "metadata": {},
   "source": [
    "효정은 새해를 맞이하여 새 모니터를 구매하고자 한다. 효정은 돈이 많기 때문에 77인치 모니터를 구매할 것이다. 모니터를 구경하던 효정은 놀라 자빠질 수밖에 없었다. 모니터가 너무 많아 고를 수가 없었기 때문이다. 이왕이면 고해상도가 좋은 법, 효정은 PPI가 가장 높은 모니터를 구매할 것이다. 우선 효정은 PPI가 높은 순으로 모니터들을 정렬하기로 결심하였다.\n",
    "\n",
    "PPI는 Pixels Per Inch의 약자로 인치당 몇 개의 픽셀이 존재하는지를 수치로 표현한 것이다. PPI는 다음과 같이 계산할 수 있다.\n",
    "\n",
    " \n",
    " \n",
    "$$PPI=\\frac{\\sqrt{W^2+H^2}}{D}$$ \n",
    "\n",
    "여기서 W는 가로 픽셀 수, H는 세로 픽셀 수, D는 대각선의 길이(인치)이다. 예를 들어, Full HD 해상도는 가로 픽셀 수가 1920, 세로 픽셀 수가 1080이다. 따라서 24인치 Full HD 모니터의 PPI는 다음과 같다.\n",
    "\n",
    " \n",
    " \n",
    "$$PPI=\\frac{\\sqrt{1920^2+1080^2}}{24}$$ \n",
    "\n",
    "N개의 모니터가 주어졌을 때, PPI가 높은 순으로 모니터들을 정렬하는 프로그램을 작성하시오. 모든 모니터의 크기는 77인치로 동일하다."
   ]
  },
  {
   "cell_type": "code",
   "execution_count": 34,
   "id": "168ca9b3-d29d-4ad4-b4de-795c92581e0b",
   "metadata": {},
   "outputs": [
    {
     "name": "stdin",
     "output_type": "stream",
     "text": [
      " 2\n",
      " 10 10\n",
      " 20 20\n"
     ]
    },
    {
     "name": "stdout",
     "output_type": "stream",
     "text": [
      "1\n",
      "0\n"
     ]
    }
   ],
   "source": [
    "import math\n",
    "\n",
    "count = int(input())\n",
    "cnt = 0\n",
    "PPI = {}\n",
    "\n",
    "while cnt < count:\n",
    "    temp = input()\n",
    "    tp = temp.split()\n",
    "    PPI[cnt] = math.sqrt(int(tp[0])**2 + int(tp[1])**2) / 77\n",
    "    cnt += 1\n",
    "    \n",
    "sorted_PPI = sorted(PPI.items(), key = lambda item: item[1], reverse = True)\n",
    "\n",
    "for i in sorted_PPI:\n",
    "    print(i[0] + 1)"
   ]
  },
  {
   "cell_type": "markdown",
   "id": "e329196b-0778-4a37-ac77-a18266b4fc8b",
   "metadata": {},
   "source": [
    "미미는 미적 감각이 뛰어난 미술가이다. 미미는 때때로 여러 물감을 섞어 새로운 색의 물감을 만들고는 한다. 어느 날 그림을 그리던 미미는 놀라 자빠질 수밖에 없었다. 미미가 가장 아끼는 곰두리색 물감이 다 떨어졌기 때문이다. 하지만 미미는 새 물감을 살 돈이 없다. 물감은 역시 섞어 써야 제맛이다. 미미는 남은 물감들을 섞어 곰두리색 물감을 만들기로 결심하였다.\n",
    "\n",
    "먼저 RGB 표기법에 대하여 알아보자. RGB 표기법은 빨간색(Red), 초록색(Green), 파란색(Blue)을 혼합하여 색을 나타내는 방법으로, 각각의 색은 밝기에 따라 0부터 255까지의 정수로 표현한다. 예를 들어, 분홍색은 rgb(255, 192, 203)과 같이 표현한다. 이는 빨간색을 255만큼, 초록색을 192만큼, 파란색을 203만큼 혼합하였다는 의미이다.\n",
    "\n",
    "새로운 물감을 만들기 위해서는 남아 있는 물감 중 혼합할 물감들을 선택한 후 이들을 동일한 비율로 섞는다. P1, P2, ..., PK번 물감을 섞어 새로 만들어지는 색은 RGB 표기법으로 다음과 같다.\n",
    "\n",
    " \n",
    " \n",
    " \n",
    " \n",
    "$$rgb\\left(\\left\\lfloor\\frac{1}{K}\\sum_{i=1}^K R_{P_i}\\right\\rfloor,\\left\\lfloor\\frac{1}{K}\\sum_{i=1}^K G_{P_i}\\right\\rfloor,\\left\\lfloor\\frac{1}{K}\\sum_{i=1}^K B_{P_i}\\right\\rfloor\\right)$$ \n",
    "\n",
    "즉, 새로운 R 값은 혼합할 모든 물감의 R 값을 더한 후 이를 물감의 개수로 나누어 구한다. 이때 소수점은 버린다. G와 B 값도 동일한 방법으로 구한다.\n",
    "\n",
    "색 i와 색 j의 차이는 다음과 같다.\n",
    "\n",
    " \n",
    "$$|R_i-R_j|+|G_i-G_j|+|B_i-B_j|$$ \n",
    "\n",
    "물감들을 섞어서 만들 수 있는 색 중 곰두리색에 가장 가까운, 즉 곰두리색과의 차이가 가장 작은 색을 문두리색이라고 한다. N개의 물감과 곰두리색이 주어졌을 때, 곰두리색과 문두리색의 차이를 구하는 프로그램을 작성하시오. 단, 미미는 아직 실력이 부족하여 최대 7개의 색만을 혼합할 수 있다. 또한 물감을 섞지 않고 단독으로 사용할 수 없다."
   ]
  },
  {
   "cell_type": "code",
   "execution_count": 103,
   "id": "fcf92c20-f9cc-4ebd-90ec-e59fa8b1a5ae",
   "metadata": {},
   "outputs": [
    {
     "name": "stdin",
     "output_type": "stream",
     "text": [
      " 3\n",
      " 255 0 0\n",
      " 0 255 0\n",
      " 0 0 255\n"
     ]
    },
    {
     "name": "stdout",
     "output_type": "stream",
     "text": [
      "[([255, 0, 0], [0, 255, 0]), ([255, 0, 0], [0, 0, 255]), ([0, 255, 0], [0, 0, 255])]\n"
     ]
    },
    {
     "name": "stdin",
     "output_type": "stream",
     "text": [
      " 64 64 64\n"
     ]
    },
    {
     "name": "stdout",
     "output_type": "stream",
     "text": [
      "63\n"
     ]
    }
   ],
   "source": [
    "from itertools import combinations\n",
    "\n",
    "count = int(input())\n",
    "colorlist = []\n",
    "answer_dict = []\n",
    "R, G, B = [], [], []\n",
    "\n",
    "for i in range(count):\n",
    "    color = input()\n",
    "    color = color.split()\n",
    "    colorlist.append(list(map(int, color)))\n",
    "    \n",
    "combinationcolorlist = []\n",
    "\n",
    "for i in range(2, 8):\n",
    "    if len(colorlist) >= i:\n",
    "        combinationcolorlist.append(list(combinations(colorlist, i)))\n",
    "\n",
    "for i in range(len(combinationcolorlist)):\n",
    "    for j in range(len(combinationcolorlist[i])):\n",
    "        tempR, tempG, tempB = 0, 0, 0\n",
    "        for k in range(len(combinationcolorlist[i][j])):\n",
    "            tempR += combinationcolorlist[i][j][k][0]\n",
    "            tempG += combinationcolorlist[i][j][k][1]\n",
    "            tempB += combinationcolorlist[i][j][k][2]\n",
    "            if k == len(combinationcolorlist[i][j])-1:\n",
    "                R.append(tempR // (k + 1))\n",
    "                G.append(tempG // (k + 1))\n",
    "                B.append(tempB // (k + 1))\n",
    "                \n",
    "color = input()\n",
    "color = color.split()\n",
    "color = list(map(int, color))\n",
    "\n",
    "                \n",
    "for i in range(len(R)):\n",
    "    answer_dict.append(abs(R[i] - color[0]) + abs(G[i] - color[1]) + abs(B[i] - color[2]))\n",
    "\n",
    "print(min(answer_dict))"
   ]
  },
  {
   "cell_type": "code",
   "execution_count": null,
   "id": "71c13e9b-3bd8-484e-b182-68511c3de260",
   "metadata": {},
   "outputs": [],
   "source": []
  }
 ],
 "metadata": {
  "kernelspec": {
   "display_name": "Python 3 (ipykernel)",
   "language": "python",
   "name": "python3"
  },
  "language_info": {
   "codemirror_mode": {
    "name": "ipython",
    "version": 3
   },
   "file_extension": ".py",
   "mimetype": "text/x-python",
   "name": "python",
   "nbconvert_exporter": "python",
   "pygments_lexer": "ipython3",
   "version": "3.9.12"
  }
 },
 "nbformat": 4,
 "nbformat_minor": 5
}
