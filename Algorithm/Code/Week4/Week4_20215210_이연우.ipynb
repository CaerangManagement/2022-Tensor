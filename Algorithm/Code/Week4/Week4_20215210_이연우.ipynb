{
 "cells": [
  {
   "cell_type": "markdown",
   "id": "29e1304a",
   "metadata": {},
   "source": [
    "### 문제 1 약수 (백준 1037)"
   ]
  },
  {
   "cell_type": "code",
   "execution_count": 1,
   "id": "4824602c",
   "metadata": {},
   "outputs": [
    {
     "name": "stdout",
     "output_type": "stream",
     "text": [
      "2\n",
      "4 2\n",
      "8\n"
     ]
    }
   ],
   "source": [
    "import math\n",
    "\n",
    "cnt = int(input()) # N의 진짜 약수의 개수\n",
    "divisor = list(map(int, input().split())) # N의 진짜 약수\n",
    "\n",
    "max_num = max(divisor)\n",
    "min_num = min(divisor)\n",
    "\n",
    "N = max_num * min_num # N 구하기\n",
    "print(N)"
   ]
  },
  {
   "cell_type": "markdown",
   "id": "8f4dde2b",
   "metadata": {},
   "source": [
    "### 문제 2 효정과 새 모니터 (백준 20949)"
   ]
  },
  {
   "cell_type": "code",
   "execution_count": 2,
   "id": "70f1acab",
   "metadata": {},
   "outputs": [
    {
     "name": "stdout",
     "output_type": "stream",
     "text": [
      "2\n",
      "10 10\n",
      "20 20\n",
      "2\n",
      "1\n"
     ]
    }
   ],
   "source": [
    "import math\n",
    "\n",
    "cnt = int(input()) # 모니터의 개수\n",
    "monitor = [] # PPI를 계산하기 위한 리스트\n",
    "\n",
    "for i in range(0, cnt) :\n",
    "    Wi, Hi = map(int, input().split()) # i번 모니터의 가로 픽셀 수 Wi와 세로 픽셀 수 Hi\n",
    "    PPI = (math.sqrt(pow(Wi, 2) + pow(Hi, 2))) / 77\n",
    "    monitor.append([PPI, i+1])\n",
    "    \n",
    "monitor.sort(key=lambda x: (-x[0], x[1])) # PPI는 내림차순(-x[0]), index는 오름차순(x[1])으로 정렬\n",
    "\n",
    "for j in monitor :\n",
    "    print(j[1])"
   ]
  }
 ],
 "metadata": {
  "kernelspec": {
   "display_name": "Python 3 (ipykernel)",
   "language": "python",
   "name": "python3"
  },
  "language_info": {
   "codemirror_mode": {
    "name": "ipython",
    "version": 3
   },
   "file_extension": ".py",
   "mimetype": "text/x-python",
   "name": "python",
   "nbconvert_exporter": "python",
   "pygments_lexer": "ipython3",
   "version": "3.9.12"
  }
 },
 "nbformat": 4,
 "nbformat_minor": 5
}
