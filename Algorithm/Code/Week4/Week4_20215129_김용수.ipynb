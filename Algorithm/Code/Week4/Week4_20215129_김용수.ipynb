{
 "cells": [
  {
   "cell_type": "markdown",
   "id": "d76ff009-6f7b-4e2e-ab8c-83c1f4d59a25",
   "metadata": {},
   "source": [
    "# 문제1"
   ]
  },
  {
   "cell_type": "code",
   "execution_count": 5,
   "id": "736c37d9-e694-4ded-b1d5-b18fb3c6f16f",
   "metadata": {},
   "outputs": [
    {
     "name": "stdin",
     "output_type": "stream",
     "text": [
      " 14\n",
      " 14 26456 2 28 13228 3307 7 23149 8 6614 46298 56 4 92596\n"
     ]
    },
    {
     "name": "stdout",
     "output_type": "stream",
     "text": [
      "185192\n"
     ]
    }
   ],
   "source": [
    "n = int(input())\n",
    "lst = list(map(int, input().split()))\n",
    "print(min(lst) * max(lst))"
   ]
  },
  {
   "cell_type": "markdown",
   "id": "d75bed57-dca6-40fe-a8bc-9ec8b960b7a6",
   "metadata": {},
   "source": [
    "# 문제2"
   ]
  },
  {
   "cell_type": "code",
   "execution_count": 23,
   "id": "780f1250-7934-478b-9d4e-08a1c5e31214",
   "metadata": {},
   "outputs": [
    {
     "name": "stdin",
     "output_type": "stream",
     "text": [
      " 2\n",
      " 10 10\n",
      " 20 20\n"
     ]
    },
    {
     "name": "stdout",
     "output_type": "stream",
     "text": [
      "2\n",
      "1\n"
     ]
    }
   ],
   "source": [
    "import math\n",
    "\n",
    "n = int(input())\n",
    "res = {}\n",
    "\n",
    "for i in range(1, n+1):\n",
    "    w, h = map(int, input().split())\n",
    "    res[str(i)] = math.sqrt(math.pow(w, 2) + math.pow(h, 2)) / 77\n",
    "\n",
    "res = sorted(res.items(), key = lambda item: item[1], reverse = True)\n",
    "\n",
    "for r in res:\n",
    "    print(r[0])"
   ]
  }
 ],
 "metadata": {
  "kernelspec": {
   "display_name": "Python 3",
   "language": "python",
   "name": "python3"
  },
  "language_info": {
   "codemirror_mode": {
    "name": "ipython",
    "version": 3
   },
   "file_extension": ".py",
   "mimetype": "text/x-python",
   "name": "python",
   "nbconvert_exporter": "python",
   "pygments_lexer": "ipython3",
   "version": "3.8.8"
  }
 },
 "nbformat": 4,
 "nbformat_minor": 5
}
