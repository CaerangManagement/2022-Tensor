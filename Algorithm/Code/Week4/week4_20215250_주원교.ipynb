{
 "cells": [
  {
   "cell_type": "markdown",
   "id": "9b0654df-2b30-4950-a4ba-62c687b00164",
   "metadata": {},
   "source": [
    "양수 A가 N의 진짜 약수가 되려면, N이 A의 배수이고, A가 1과 N이 아니어야 한다. \n",
    "어떤 수 N의 진짜 약수가 모두 주어질 때, N을 구하는 프로그램을 작성하시오."
   ]
  },
  {
   "cell_type": "code",
   "execution_count": 3,
   "id": "9616fd61-3b32-4d13-98c7-7ae89cc6d206",
   "metadata": {},
   "outputs": [
    {
     "name": "stdin",
     "output_type": "stream",
     "text": [
      " 2\n",
      " 4 2\n"
     ]
    },
    {
     "name": "stdout",
     "output_type": "stream",
     "text": [
      "8\n"
     ]
    }
   ],
   "source": [
    "#문제 1 \n",
    "n = int(input()) #n<=50\n",
    "k = list(map(int, input().split()))\n",
    "\n",
    "k_max = max(k) #진짜 약수 중 최대\n",
    "k_min = min(k) #진짜 약수 중 최소\n",
    "\n",
    "print(k_max * k_min) #곱 = N"
   ]
  },
  {
   "cell_type": "markdown",
   "id": "8775494d-c5ea-458f-b649-98281c553c13",
   "metadata": {},
   "source": [
    "효정은 새해를 맞이하여 새 모니터를 구매하고자 한다. 효정은 돈이 많기 때문에 77인치 모니터를 구매할 것이다. \n",
    "모니터를 구경하던 효정은 놀라 자빠질 수밖에 없었다. 모니터가 너무 많아 고를 수가 없었기 때문이다. 이왕이면 고해상도가 좋은 법, \n",
    "효정은 PPI가 가장 높은 모니터를 구매할 것이다. 우선 효정은 PPI가 높은 순으로 모니터들을 정렬하기로 결심하였다.\n",
    "\n",
    "PPI는 Pixels Per Inch의 약자로 인치당 몇 개의 픽셀이 존재하는지를 수치로 표현한 것이다. PPI는 다음과 같이 계산할 수 있다.\n",
    "\n",
    "$$PPI=\\frac{\\sqrt{W^2+H^2}}{D}$$  (PPI 수식은 아래 사진 참고)\n",
    "\n",
    "여기서 W는 가로 픽셀 수, H는 세로 픽셀 수, D는 대각선의 길이(인치)이다. \n",
    "예를 들어, Full HD 해상도는 가로 픽셀 수가 1920, 세로 픽셀 수가 1080이다. \n",
    "따라서 24인치 Full HD 모니터의 PPI는 다음과 같다.\n",
    "\n",
    "$$PPI=\\frac{\\sqrt{1920^2+1080^2}}{24}$$ \n",
    "\n",
    "N개의 모니터가 주어졌을 때, PPI가 높은 순으로 모니터들을 정렬하는 프로그램을 작성하시오. \n",
    "모든 모니터의 크기는 77인치로 동일하다."
   ]
  },
  {
   "cell_type": "code",
   "execution_count": 24,
   "id": "b9296ddb-9994-4261-84b6-6843d276809b",
   "metadata": {},
   "outputs": [
    {
     "name": "stdin",
     "output_type": "stream",
     "text": [
      " 2\n",
      " 10 10\n",
      " 20 20\n"
     ]
    },
    {
     "name": "stdout",
     "output_type": "stream",
     "text": [
      "2\n",
      "1\n"
     ]
    }
   ],
   "source": [
    "#문제 2\n",
    "from math import sqrt\n",
    "\n",
    "N = int(input())\n",
    "a = dict()\n",
    "\n",
    "for i in range(N):\n",
    "    w, h = map(int, input().split())\n",
    "    PPI = sqrt(w ** 2 + h**2) / 77\n",
    "    a[i+1] = PPI\n",
    "\n",
    "a = sorted(a.items(), key = lambda x:x[1], reverse = True)\n",
    "\n",
    "for k in a:\n",
    "    print(k[0])"
   ]
  },
  {
   "cell_type": "code",
   "execution_count": null,
   "id": "9d4cca8d-b3bf-4b9d-acd6-2d0494dd9599",
   "metadata": {},
   "outputs": [],
   "source": []
  }
 ],
 "metadata": {
  "kernelspec": {
   "display_name": "Python 3 (ipykernel)",
   "language": "python",
   "name": "python3"
  },
  "language_info": {
   "codemirror_mode": {
    "name": "ipython",
    "version": 3
   },
   "file_extension": ".py",
   "mimetype": "text/x-python",
   "name": "python",
   "nbconvert_exporter": "python",
   "pygments_lexer": "ipython3",
   "version": "3.9.7"
  }
 },
 "nbformat": 4,
 "nbformat_minor": 5
}
