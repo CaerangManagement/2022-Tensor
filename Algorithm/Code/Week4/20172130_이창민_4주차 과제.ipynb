{
 "cells": [
  {
   "cell_type": "code",
   "execution_count": 1,
   "id": "a3bd111d",
   "metadata": {},
   "outputs": [
    {
     "name": "stdout",
     "output_type": "stream",
     "text": [
      "2\n",
      "2 4\n",
      "8\n"
     ]
    }
   ],
   "source": [
    "n = int(input())\n",
    "real_divisor = list(map(int, input().split()))\n",
    "\n",
    "a = min(real_divisor)\n",
    "b = max(real_divisor)\n",
    "\n",
    "print(a*b)"
   ]
  },
  {
   "cell_type": "code",
   "execution_count": 2,
   "id": "c9bade84",
   "metadata": {},
   "outputs": [
    {
     "name": "stdout",
     "output_type": "stream",
     "text": [
      "2\n",
      "10 10\n",
      "20 20\n",
      "2\n",
      "1\n"
     ]
    }
   ],
   "source": [
    "n = int(input())\n",
    "PPI_lst = list()\n",
    "\n",
    "for index in range(n):\n",
    "    w, h = map(int, input().split())\n",
    "    PPI = (((w*w) + (h*h)) ** 1/2) / 77\n",
    "    PPI_lst.append([index+1, PPI])\n",
    "\n",
    "PPI_lst.sort(key=lambda x:(-x[1], x[0]))\n",
    "\n",
    "for monitor in PPI_lst:\n",
    "    print(monitor[0])"
   ]
  },
  {
   "cell_type": "code",
   "execution_count": 27,
   "id": "bf66cadc",
   "metadata": {},
   "outputs": [
    {
     "name": "stdout",
     "output_type": "stream",
     "text": [
      "2\n",
      "255 255 255\n",
      "255 130 151\n",
      "255 255 255\n",
      "115\n"
     ]
    }
   ],
   "source": [
    "from itertools import combinations\n",
    "\n",
    "def roundUp(num):\n",
    "    return int(num + 1) if(num - int(num)) >= 0.5 else int(num)\n",
    "\n",
    "n = int(input())\n",
    "paint_rgb = list()\n",
    "var_min = 0\n",
    "\n",
    "for index in range(n):\n",
    "    paint = tuple(map(int, input().split()))\n",
    "    paint_rgb.append(paint)\n",
    "\n",
    "real_rgb = list(map(int, input().split()))\n",
    "\n",
    "for mix in range(2, n+1):\n",
    "    lst = list(combinations(paint_rgb, mix))\n",
    "    \n",
    "    for i in range(0,len(lst)):\n",
    "        r, g, b = 0, 0 ,0\n",
    "        \n",
    "        for j in range(0, len(lst[i])):\n",
    "            r = int(lst[i][j][0]) + r\n",
    "            g = int(lst[i][j][1]) + g\n",
    "            b = int(lst[i][j][2]) + b\n",
    "        \n",
    "        var_r = abs(real_rgb[0] - r/mix)\n",
    "        var_g = abs(real_rgb[1] - g/mix)\n",
    "        var_b = abs(real_rgb[2] - b/mix)\n",
    "        var = var_r + var_g + var_b\n",
    "        \n",
    "        if (var_min == 0) or (var_min > var):\n",
    "            var_min = var\n",
    "\n",
    "print(roundUp(var_min))"
   ]
  }
 ],
 "metadata": {
  "kernelspec": {
   "display_name": "Python 3 (ipykernel)",
   "language": "python",
   "name": "python3"
  },
  "language_info": {
   "codemirror_mode": {
    "name": "ipython",
    "version": 3
   },
   "file_extension": ".py",
   "mimetype": "text/x-python",
   "name": "python",
   "nbconvert_exporter": "python",
   "pygments_lexer": "ipython3",
   "version": "3.9.7"
  }
 },
 "nbformat": 4,
 "nbformat_minor": 5
}
