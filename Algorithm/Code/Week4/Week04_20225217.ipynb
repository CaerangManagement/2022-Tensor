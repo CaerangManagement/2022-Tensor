{
  "nbformat": 4,
  "nbformat_minor": 0,
  "metadata": {
    "colab": {
      "name": "Week04_20225217.ipynb",
      "provenance": [],
      "collapsed_sections": []
    },
    "kernelspec": {
      "name": "python3",
      "display_name": "Python 3"
    },
    "language_info": {
      "name": "python"
    }
  },
  "cells": [
    {
      "cell_type": "code",
      "execution_count": null,
      "metadata": {
        "colab": {
          "base_uri": "https://localhost:8080/"
        },
        "id": "S6OIne40U7Yl",
        "outputId": "770c3697-c7e0-4911-d26e-104a326ed80c"
      },
      "outputs": [
        {
          "output_type": "stream",
          "name": "stdout",
          "text": [
            "6\n",
            "3 4 2 12 6 8\n",
            "24\n"
          ]
        }
      ],
      "source": [
        "#20225217 이신우\n",
        "#1 \n",
        "\n",
        "num = int(input())\n",
        "a = list(map(int, input().split())) # 리스트에 맵을 사용해 입력 받는다\n",
        "\n",
        "max_a = max(a) # a 리스트 값중 가장 큰 걸  넣어준다\n",
        "min_a = min(a) # a 리스트 값중 가장 작은 걸  넣어준다\n",
        "\n",
        "print(max_a * min_a) # 가장 큰 값과 작은 값을 곱하면 N을 구할 수 있다.\n",
        "\n",
        "\n"
      ]
    },
    {
      "cell_type": "code",
      "source": [
        "#20225217 이신우\n",
        "#2\n",
        "\n",
        "# sqrt 함수를 사용하기위해 import\n",
        "from math import sqrt\n",
        "\n",
        "# 첫 번째 줄에 모니터의 개수 N을 입력합니다.\n",
        "# 1 <= N <= 1000\n",
        "# 정수이다\n",
        "\n",
        "N = int(input())\n",
        "\n",
        "# 각 모니터의 번호와 PPI를 저장할 리스트 변수를 선언합니다.\n",
        "monitors = []\n",
        "\n",
        "# 모니터의 개수 N만큼 반복해봅니다.\n",
        "for monitor_index in range(N):\n",
        "  # i번 모니터의 가로 픽셀 수 Wi, 세로 픽셀 수 Hi를 공백으로 구분해 입력합니다.\n",
        "  # 1 <= Wi, Hi <= 30000\n",
        "  # 정수입니다.\n",
        "  Wi, Hi = map(int, input().split(' '))\n",
        "  # PPI를 계산하는 공식의 결과를 저장하는 변수를 선언합니다.\n",
        "  # 문제에서 77인치 모니터를 구매할 것이라고 했으므로 D는 77입니다.\n",
        "  PPI = sqrt(Wi ** 2+ Hi ** 2) / 77\n",
        "\n",
        "  # 이번 모니터의 모니터 번호, PPI를 리스트로 만들고, monitors에 넣어줍니다.\n",
        "  monitors.append([monitor_index+1 , PPI])\n",
        "\n",
        "# monitors 내부의 값들을 PPI가 높은 순인 내림차순으로 먼저 정렬하고,\n",
        "# PPI가 동일한 경우에는 모니터의 번호가 더 작은 순인 오름차순으로 정렬합니다.\n",
        "monitors.sort(key=lambda monitor : (-monitor[1], monitor[0]))\n",
        "\n",
        "# 출력 형식에 맞게 각 모니터의 번호를 출력합니다.\n",
        "for monitor in monitors:\n",
        "  print(monitor[0])\n",
        "\n"
      ],
      "metadata": {
        "id": "sIMpf7YZVfvd",
        "colab": {
          "base_uri": "https://localhost:8080/"
        },
        "outputId": "188d781e-e708-4aff-cc4f-10bec0e0dc1f"
      },
      "execution_count": 6,
      "outputs": [
        {
          "output_type": "stream",
          "name": "stdout",
          "text": [
            "2\n",
            "10 10\n",
            "20 20\n",
            "2\n",
            "1\n"
          ]
        }
      ]
    }
  ]
}