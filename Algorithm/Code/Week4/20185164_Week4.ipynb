{
 "cells": [
  {
   "cell_type": "markdown",
   "id": "ee8a541a-d8ec-46e6-9a9c-f8bcdf352a1b",
   "metadata": {},
   "source": [
    "## 문제 1"
   ]
  },
  {
   "cell_type": "code",
   "execution_count": 1,
   "id": "ae3ce263-9c21-4015-8d0d-b2397e0a8fa3",
   "metadata": {},
   "outputs": [
    {
     "name": "stdin",
     "output_type": "stream",
     "text": [
      " 2\n",
      " 4 2\n"
     ]
    },
    {
     "name": "stdout",
     "output_type": "stream",
     "text": [
      "8\n"
     ]
    }
   ],
   "source": [
    "N = int(input())\n",
    "A = list(map(int, input().split()))\n",
    "max_num = max(A)\n",
    "min_num = min(A)\n",
    "\n",
    "print(max_num * min_num)"
   ]
  },
  {
   "cell_type": "markdown",
   "id": "6705e727-1ba2-4ac0-8590-6f9c44304997",
   "metadata": {},
   "source": [
    "## 문제 2\n"
   ]
  },
  {
   "cell_type": "code",
   "execution_count": 2,
   "id": "f349350c-b5b6-4288-bcbe-e4744607eebe",
   "metadata": {},
   "outputs": [
    {
     "name": "stdin",
     "output_type": "stream",
     "text": [
      " 2\n",
      " 10 10\n",
      " 20 20\n"
     ]
    },
    {
     "name": "stdout",
     "output_type": "stream",
     "text": [
      "2\n",
      "1\n"
     ]
    }
   ],
   "source": [
    "n = int(input())\n",
    "arr = sorted([[*map(int, input().split())] + [_+1] for _ in range(n)], key=lambda x:(x[0]**2+x[1]**2), reverse=True)\n",
    "for i in range(n): print(arr[i][2])\n"
   ]
  },
  {
   "cell_type": "code",
   "execution_count": null,
   "id": "0af74096-e064-4cbc-b556-909499b2fb58",
   "metadata": {},
   "outputs": [],
   "source": []
  }
 ],
 "metadata": {
  "kernelspec": {
   "display_name": "Python 3 (ipykernel)",
   "language": "python",
   "name": "python3"
  },
  "language_info": {
   "codemirror_mode": {
    "name": "ipython",
    "version": 3
   },
   "file_extension": ".py",
   "mimetype": "text/x-python",
   "name": "python",
   "nbconvert_exporter": "python",
   "pygments_lexer": "ipython3",
   "version": "3.9.12"
  }
 },
 "nbformat": 4,
 "nbformat_minor": 5
}
