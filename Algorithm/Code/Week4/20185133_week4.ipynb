{
 "cells": [
  {
   "cell_type": "code",
   "execution_count": null,
   "metadata": {
    "collapsed": true,
    "pycharm": {
     "name": "#%%\n",
     "is_executing": true
    }
   },
   "outputs": [],
   "source": [
    "# 문제 1 (#1037)\n",
    "\n",
    "n = int(input())\n",
    "div = sorted(list(map(int, input().split())))\n",
    "result = div[0] * div[-1]\n",
    "print(result)"
   ]
  },
  {
   "cell_type": "code",
   "execution_count": null,
   "outputs": [],
   "source": [
    "# 문제 2 (#20949)\n",
    "\n",
    "N = int(input())\n",
    "result = []\n",
    "ppi = []\n",
    "\n",
    "for i in range(N):\n",
    "    w, h = map(int, input().split())\n",
    "    p = pow((w ** 2 + h ** 2), 1 / 2) / 77\n",
    "\n",
    "    ppi.append(p)\n",
    "    ppi.sort(reverse=True)\n",
    "    idx = ppi.index(p)\n",
    "    cnt = ppi.count(p)\n",
    "\n",
    "    if cnt > 1:\n",
    "        result.insert(idx + cnt - 1, i + 1)\n",
    "\n",
    "    else:\n",
    "        result.insert(idx, i + 1)\n",
    "\n",
    "for i in result:\n",
    "    print(i)"
   ],
   "metadata": {
    "collapsed": false,
    "pycharm": {
     "name": "#%%\n",
     "is_executing": true
    }
   }
  }
 ],
 "metadata": {
  "kernelspec": {
   "display_name": "Python 3",
   "language": "python",
   "name": "python3"
  },
  "language_info": {
   "codemirror_mode": {
    "name": "ipython",
    "version": 2
   },
   "file_extension": ".py",
   "mimetype": "text/x-python",
   "name": "python",
   "nbconvert_exporter": "python",
   "pygments_lexer": "ipython2",
   "version": "2.7.6"
  }
 },
 "nbformat": 4,
 "nbformat_minor": 0
}