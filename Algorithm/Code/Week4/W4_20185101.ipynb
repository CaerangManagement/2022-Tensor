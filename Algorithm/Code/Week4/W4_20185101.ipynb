{
  "nbformat": 4,
  "nbformat_minor": 0,
  "metadata": {
    "colab": {
      "name": "W4_20185101.ipynb",
      "provenance": [],
      "collapsed_sections": []
    },
    "kernelspec": {
      "name": "python3",
      "display_name": "Python 3"
    },
    "language_info": {
      "name": "python"
    }
  },
  "cells": [
    {
      "cell_type": "code",
      "execution_count": 1,
      "metadata": {
        "colab": {
          "base_uri": "https://localhost:8080/"
        },
        "id": "2rbDIvLDgSnk",
        "outputId": "209a2d3b-50a3-485c-f2c8-68a7c932f9e7"
      },
      "outputs": [
        {
          "output_type": "stream",
          "name": "stdout",
          "text": [
            "2\n",
            "2 4\n",
            "8\n"
          ]
        }
      ],
      "source": [
        "num = int(input())\n",
        "div = list(map(int, input().split()))\n",
        "a = min(div)\n",
        "b = max(div)\n",
        "print(a*b)"
      ]
    },
    {
      "cell_type": "code",
      "source": [
        "n = int(input())\n",
        "mon = []\n",
        "\n",
        "for i in range(n):\n",
        "  wi, hi = map(int,input().split())\n",
        "\n",
        "  ppi = wi**2+hi**2 # 루트와 77로 나누는건 비교하는데 의미없음\n",
        "\n",
        "  mon.append([ppi,i+1])\n",
        "\n",
        "print(mon)\n",
        "\n",
        "mon.sort(key=lambda x: (-x[0],x[1]))\n",
        "\n",
        "for i in mon:\n",
        "  print(i[1])\n",
        "print(mon)"
      ],
      "metadata": {
        "colab": {
          "base_uri": "https://localhost:8080/"
        },
        "id": "z9qVOczHgitz",
        "outputId": "b589b936-ad4f-48bc-e3e4-666ffc7d55dd"
      },
      "execution_count": 11,
      "outputs": [
        {
          "output_type": "stream",
          "name": "stdout",
          "text": [
            "2\n",
            "10 10\n",
            "20 20\n",
            "[[200, 1], [800, 2]]\n",
            "2\n",
            "1\n",
            "[[800, 2], [200, 1]]\n"
          ]
        }
      ]
    },
    {
      "cell_type": "code",
      "source": [
        "mon"
      ],
      "metadata": {
        "colab": {
          "base_uri": "https://localhost:8080/"
        },
        "id": "clVdJe_iiyQO",
        "outputId": "2a93e1a9-f56e-4f07-cd9f-7ad9739a5655"
      },
      "execution_count": 10,
      "outputs": [
        {
          "output_type": "execute_result",
          "data": {
            "text/plain": [
              "[[800, 2], [200, 1]]"
            ]
          },
          "metadata": {},
          "execution_count": 10
        }
      ]
    },
    {
      "cell_type": "code",
      "source": [
        ""
      ],
      "metadata": {
        "id": "pOKKAGP6i3BJ"
      },
      "execution_count": null,
      "outputs": []
    }
  ]
}