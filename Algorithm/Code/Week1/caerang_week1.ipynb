{
 "cells": [
  {
   "cell_type": "markdown",
   "id": "ed1e6c9d-b943-43f1-883c-861f670b8664",
   "metadata": {
    "tags": []
   },
   "source": [
    "## 1. 두 자연수 a, b를 입력받아 a / b 결과를 소수점 20째자리까지 출력하는 프로그램을 작성. \n",
    "출제 의도 : 파이썬의 소숫점 출력방식 파악.\n",
    "\n",
    "### 입력 형식 \n",
    "첫 번째 줄에 a, b가 공백을 사이에 두고 주어집니다.\n",
    "- 1 ≤ a, b ≤ 100\n",
    "\n",
    "### 출력 형식\n",
    "- a / b 결과를 소수점 20째자리까지 출력합니다.\n",
    "\n",
    "### 예제1\n",
    "\n",
    "```:python\n",
    "# 입력\n",
    "3 5\n",
    "```\n",
    "\n",
    "```:python\n",
    "# 출력\n",
    "0.60000000000000000000\n",
    "```\n",
    "\n",
    "### 예제2\n",
    "```:python\n",
    "# 입력\n",
    "3 7\n",
    "```\n",
    "\n",
    "```:python\n",
    "# 출력\n",
    "0.42857142857142857142\n",
    "```"
   ]
  },
  {
   "cell_type": "code",
   "execution_count": 1,
   "id": "bc29e3ea-a715-48d3-9c29-7e86bab9ceb8",
   "metadata": {
    "tags": []
   },
   "outputs": [
    {
     "name": "stdin",
     "output_type": "stream",
     "text": [
      " 3 7\n"
     ]
    },
    {
     "name": "stdout",
     "output_type": "stream",
     "text": [
      "0.42857142857142857142\n"
     ]
    }
   ],
   "source": [
    "inp = input() #공백을 두고 두 개의 수 입력\n",
    "lst = list(map(int,inp.split())) #공백 기준으로 나누고 정수 원소를 가지는 lst생성\n",
    "\n",
    "a = lst[0]\n",
    "b = lst[1]\n",
    "\n",
    "x = a // b #결과의 정수부분\n",
    "y = str(x) + \".\" #결과의 소수부분 채워넣을 틀\n",
    "\n",
    "kk = a % b #나머지(정수로)\n",
    "for n in range(20):\n",
    "    s = kk * 10\n",
    "    y += str(s//b)\n",
    "    kk = s % b\n",
    "\n",
    "print(y)"
   ]
  },
  {
   "cell_type": "markdown",
   "id": "551201a9-d876-4283-8740-6c1401278a92",
   "metadata": {},
   "source": [
    "# 2. 백준 1789 (난이도 : 실버5) \n",
    "[링크](https://www.acmicpc.net/problem/1789)\n",
    "## 서로 다른 N개의 자연수의 합이 S라고 한다. S를 알 때, 자연수 N의 최댓값은 얼마일까?\n",
    "\n",
    "### 입력 형식 \n",
    "첫째 줄에 자연수 S(1 ≤ S ≤ 4,294,967,295)가 주어진다.\n",
    "\n",
    "### 출력 형식\n",
    "첫째 줄에 자연수 N의 최댓값을 출력한다.\n",
    "\n",
    "### 예제1\n",
    "\n",
    "```:python\n",
    "# 입력\n",
    "200\n",
    "```\n",
    "\n",
    "```:python\n",
    "# 출력\n",
    "19\n",
    "```\n"
   ]
  },
  {
   "cell_type": "code",
   "execution_count": 10,
   "id": "4c9bcc24-ed10-4278-b452-14aa8f5a2e99",
   "metadata": {},
   "outputs": [
    {
     "name": "stdin",
     "output_type": "stream",
     "text": [
      " 200\n"
     ]
    },
    {
     "name": "stdout",
     "output_type": "stream",
     "text": [
      "19\n"
     ]
    }
   ],
   "source": [
    "inp = int(input())\n",
    "n = 1 #자연수 n의 개수\n",
    "res = 0 #inp값과 비교할 결과 값\n",
    "\n",
    "while(True):\n",
    "    res += n #n을 result에 하나씩 더해줌\n",
    "    if(res>inp): #입력받은 값보다 커졌을 때\n",
    "        n-=1 \n",
    "        break;\n",
    "    n+=1\n",
    "print(n)"
   ]
  },
  {
   "cell_type": "markdown",
   "id": "84fdab13-b5f4-491c-8d69-6a2da3c0689b",
   "metadata": {},
   "source": [
    "### 3. CNN 에 사용되는 MaxPooling의 개념과 비슷한 문제 (난이도 : 실버2)\n",
    "[링크](https://www.acmicpc.net/problem/17829)\n",
    "MaxPooling이란 nxn 크기의 필터에서 가장 큰 값만 뽑아내는 방법이다.\n",
    "\n",
    "## 문제\n",
    "조기 졸업을 꿈꾸는 종욱이는 요즘 핫한 딥러닝을 공부하던 중, 이미지 처리에 흔히 쓰이는 합성곱 신경망(Convolutional Neural Network, CNN)의 풀링 연산에 영감을 받아 자신만의 풀링을 만들고 이를 222-풀링이라 부르기로 했다.\n",
    "\n",
    "다음은 8×8 행렬이 주어졌다고 가정했을 때 222-풀링을 1회 적용하는 과정을 설명한 것이다\n",
    "\n",
    "1. 행렬을 2×2 정사각형으로 나눈다.\n",
    "2. 각 정사각형에서 2번째로 큰 수만 남긴다. 여기서 2번째로 큰 수란, 정사각형의 네 원소를 크기순으로 a4 ≤ a3 ≤ a2 ≤ a1 라 했을 때, 원소 a2를 뜻한다.\n",
    "3. 2번 과정에 의해 행렬의 크기가 줄어들게 된다.\n",
    "\n",
    "종욱이는 N×N 행렬에 222-풀링을 반복해서 적용하여 크기를 1×1로 만들었을 때 어떤 값이 남아있을지 궁금해한다.\n",
    "랩실 활동에 치여 삶이 사라진 종욱이를 애도하며 종욱이의 궁금증을 대신 해결해주자.\n",
    "\n",
    "![image](https://user-images.githubusercontent.com/38518648/177464538-f7e8e316-0f36-4857-a1bb-25caa0206e55.png)\n",
    "\n",
    "\n",
    "## 입력 형식\n",
    "첫째 줄에 N(2 ≤ N ≤ 1024)이 주어진다. N은 항상 2의 거듭제곱 꼴이다. (N=2K, 1 ≤ K ≤ 10)\n",
    "다음 N개의 줄마다 각 행의 원소 N개가 차례대로 주어진다. 행렬의 모든 성분은 -10,000 이상 10,000 이하의 정수이다. \n",
    "\n",
    "## 출력 형식\n",
    "마지막에 남은 수를 출력한다.\n",
    "\n",
    "### 예제1\n",
    "\n",
    "```:python\n",
    "# 입력\n",
    "4\n",
    "-6 -8 7 -4\n",
    "-5 -5 14 11\n",
    "11 11 -1 -1\n",
    "4 9 -2 -4\n",
    "```\n",
    "\n",
    "```:python\n",
    "# 출력\n",
    "11\n",
    "```"
   ]
  },
  {
   "cell_type": "code",
   "execution_count": null,
   "id": "6dd1f2f2-fbc4-4310-840c-7c7ffa1f10a7",
   "metadata": {},
   "outputs": [
    {
     "data": {
      "text/plain": [
       "-inf"
      ]
     },
     "execution_count": 88,
     "metadata": {},
     "output_type": "execute_result"
    }
   ],
   "source": [
    "second = largest = -float('inf') \n",
    "second"
   ]
  },
  {
   "cell_type": "code",
   "execution_count": null,
   "id": "bc7312a7-90a3-41c4-881e-3013ca7c9e0a",
   "metadata": {},
   "outputs": [],
   "source": [
    "for n in arr:\n",
    "    if n > largest:\n",
    "        second = largest\n",
    "        largest = n\n",
    "    elif second < n < largest:\n",
    "        second = n"
   ]
  },
  {
   "cell_type": "code",
   "execution_count": 95,
   "id": "94e5f47c-5ca7-4246-a047-83baaed100f5",
   "metadata": {},
   "outputs": [
    {
     "data": {
      "text/plain": [
       "(6, 5)"
      ]
     },
     "execution_count": 95,
     "metadata": {},
     "output_type": "execute_result"
    }
   ],
   "source": [
    "arr =[6,5,3]\n",
    "for n in arr:\n",
    "    if n > largest:\n",
    "        second = largest\n",
    "        largest = n\n",
    "    elif second < n < largest:\n",
    "        second = n\n",
    "        \n",
    "largest, second"
   ]
  },
  {
   "cell_type": "code",
   "execution_count": 49,
   "id": "4d073d1f-be48-434a-a866-3179371cacc8",
   "metadata": {},
   "outputs": [],
   "source": [
    "N = 4"
   ]
  },
  {
   "cell_type": "code",
   "execution_count": 50,
   "id": "ae604579-1ebc-473d-89e3-31cf26da4e26",
   "metadata": {},
   "outputs": [
    {
     "data": {
      "text/plain": [
       "array([[-6, -8,  7, -4],\n",
       "       [-5, -5, 14, 11],\n",
       "       [11, 11, -1, -1],\n",
       "       [ 4,  9, -2, -4]])"
      ]
     },
     "execution_count": 50,
     "metadata": {},
     "output_type": "execute_result"
    }
   ],
   "source": [
    "import numpy as np\n",
    "x = [[-6, -8, 7, -4], [-5, -5, 14, 11],[11, 11, -1, -1],[4, 9, -2, -4]]\n",
    "x = np.array(x)\n",
    "x #4/2 = 2, "
   ]
  },
  {
   "cell_type": "code",
   "execution_count": 87,
   "id": "228afc2c-33a9-4010-a08b-23602e8346f7",
   "metadata": {},
   "outputs": [
    {
     "data": {
      "text/plain": [
       "array([[-6, -8, -5, -5],\n",
       "       [ 7, -4, 14, 11],\n",
       "       [11, 11,  4,  9],\n",
       "       [-1, -1, -2, -4]])"
      ]
     },
     "execution_count": 87,
     "metadata": {},
     "output_type": "execute_result"
    }
   ],
   "source": [
    "k = 0\n",
    "lstd = np.zeros(((N//2)**2,4), int)\n",
    "for m in range(N):\n",
    "    for n in range(N//2):\n",
    "        if m%2 ==0:\n",
    "            lstd[k][0] = x[m][2*n+0]\n",
    "            lstd[k][1] = x[m][2*n+1]\n",
    "            lstd[k][2] = x[m+1][2*n+0]\n",
    "            lstd[k][3] = x[m+1][2*n+1]\n",
    "            k+=1\n",
    "        else: \n",
    "            break;\n",
    "lstd"
   ]
  },
  {
   "cell_type": "code",
   "execution_count": 91,
   "id": "797ae719-a158-4ef8-af90-19be18b36406",
   "metadata": {},
   "outputs": [
    {
     "data": {
      "text/plain": [
       "array([[-8, -6, -5, -5],\n",
       "       [-4,  7, 11, 14],\n",
       "       [ 4,  9, 11, 11],\n",
       "       [-4, -2, -1, -1]])"
      ]
     },
     "execution_count": 91,
     "metadata": {},
     "output_type": "execute_result"
    }
   ],
   "source": [
    "np.sort(lstd, axis=1)"
   ]
  },
  {
   "cell_type": "code",
   "execution_count": 40,
   "id": "5f995cdb-1e30-4d45-aa25-e09900e63b20",
   "metadata": {},
   "outputs": [],
   "source": [
    "x=np.zeros((16,4), int)"
   ]
  },
  {
   "cell_type": "code",
   "execution_count": null,
   "id": "c45661bf-389b-4ad8-ad2f-e52054068489",
   "metadata": {},
   "outputs": [],
   "source": []
  }
 ],
 "metadata": {
  "kernelspec": {
   "display_name": "Python 3 (ipykernel)",
   "language": "python",
   "name": "python3"
  },
  "language_info": {
   "codemirror_mode": {
    "name": "ipython",
    "version": 3
   },
   "file_extension": ".py",
   "mimetype": "text/x-python",
   "name": "python",
   "nbconvert_exporter": "python",
   "pygments_lexer": "ipython3",
   "version": "3.9.7"
  }
 },
 "nbformat": 4,
 "nbformat_minor": 5
}
