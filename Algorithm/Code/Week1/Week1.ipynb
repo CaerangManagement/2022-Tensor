{
 "cells": [
  {
   "cell_type": "markdown",
   "id": "5ed5df1b-a087-4e99-bc6c-5127c19ec616",
   "metadata": {},
   "source": [
    "## Tensor Workshop"
   ]
  },
  {
   "cell_type": "code",
   "execution_count": 27,
   "id": "f416aa97-40ca-4763-bd25-254f9f980745",
   "metadata": {},
   "outputs": [],
   "source": [
    "from decimal import Decimal\n",
    "def print_to_20():\n",
    "    A, B = map(int, input().split())\n",
    "    print(\"{:.20f}\".format(Decimal(A) / Decimal(B)))"
   ]
  },
  {
   "cell_type": "markdown",
   "id": "da7a09c9-51c2-4228-a75c-a1709eb87ba3",
   "metadata": {
    "tags": []
   },
   "source": [
    "### Decimal 20 "
   ]
  },
  {
   "cell_type": "code",
   "execution_count": null,
   "id": "52dc2217-bdc5-4ac3-afb1-0dcd9d6c9c43",
   "metadata": {},
   "outputs": [],
   "source": [
    "from decimal import Decimal\n",
    "def print_to_20():\n",
    "    A, B = map(int, input().split())\n",
    "    print(\"{:.20f}\".format(Decimal(A) / Decimal(B)))"
   ]
  },
  {
   "cell_type": "code",
   "execution_count": 28,
   "id": "69f148c8-bcfe-48e0-b86b-b274b5b31c00",
   "metadata": {},
   "outputs": [
    {
     "name": "stdin",
     "output_type": "stream",
     "text": [
      " 3 5\n"
     ]
    },
    {
     "name": "stdout",
     "output_type": "stream",
     "text": [
      "0.60000000000000000000\n"
     ]
    }
   ],
   "source": [
    "print_to_20()"
   ]
  },
  {
   "cell_type": "code",
   "execution_count": 29,
   "id": "9907f2bd-7cd8-49db-a667-9cccfa83bd89",
   "metadata": {},
   "outputs": [
    {
     "name": "stdin",
     "output_type": "stream",
     "text": [
      " 3 7\n"
     ]
    },
    {
     "name": "stdout",
     "output_type": "stream",
     "text": [
      "0.42857142857142857143\n"
     ]
    }
   ],
   "source": [
    "print_to_20()"
   ]
  },
  {
   "cell_type": "markdown",
   "id": "66a65362-8f74-4654-a61c-81aa0f8002fc",
   "metadata": {},
   "source": [
    "### <a href=\"https://www.acmicpc.net/problem/1789\">BOJ 1789</a>"
   ]
  },
  {
   "cell_type": "markdown",
   "id": "c212a122-b04f-4a22-8734-926322ff5aca",
   "metadata": {},
   "source": [
    "![result.png](data:image/png;base64,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)"
   ]
  },
  {
   "cell_type": "code",
   "execution_count": 43,
   "id": "d690e65f-8922-4e4b-8026-07cb9af4a066",
   "metadata": {},
   "outputs": [
    {
     "name": "stdin",
     "output_type": "stream",
     "text": [
      " 200\n"
     ]
    },
    {
     "name": "stdout",
     "output_type": "stream",
     "text": [
      "19\n"
     ]
    }
   ],
   "source": [
    "N = int(input())\n",
    "i = 0\n",
    "while i*i + i < 2*N+1:\n",
    "    i = i+1\n",
    "print(i-1)"
   ]
  },
  {
   "cell_type": "markdown",
   "id": "063f38ce-3d1a-4cd2-8afa-a840a45cdadd",
   "metadata": {},
   "source": [
    "### <a href=\"https://www.acmicpc.net/problem/17829\">BOJ 17829</a>\n",
    "\n",
    "![result.png](data:image/png;base64,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)  \n",
    "?????????????????????????????????????????? dksl OOB도 아니고 타입에러가 어디서 뜸????? 왜 뜨는거임?????????????"
   ]
  },
  {
   "cell_type": "code",
   "execution_count": 54,
   "id": "cceffbef-ef3d-467e-ba82-69991a407b0f",
   "metadata": {},
   "outputs": [],
   "source": [
    "# Implementing 2dMaxPooling, recursion until size=1"
   ]
  },
  {
   "cell_type": "code",
   "execution_count": null,
   "id": "a513a8c7-13b1-41fb-9b11-0bb1d573a75c",
   "metadata": {
    "tags": []
   },
   "outputs": [],
   "source": [
    "N = int(input())\n",
    "image = [list(map(int, input().split())) for _ in N]\n",
    "\n",
    "def MPresult(image, N):\n",
    "    if N == 1:\n",
    "        return image[0][0]\n",
    "    arr = []\n",
    "    for i in range(0, N, 2):\n",
    "        row = []\n",
    "        for j in range(0, N, 2):\n",
    "            row.append(sorted((image[i][j], image[i][j+1], image[i+1][j], image[i+1][j+1]))[-2])\n",
    "        kernel.append(row)\n",
    "    return MPresult(arr, N//2)\n",
    "\n",
    "print(MPresult(image, N))"
   ]
  },
  {
   "cell_type": "code",
   "execution_count": 68,
   "id": "0e9ce639-df28-49c0-9759-5974399e4dd4",
   "metadata": {},
   "outputs": [],
   "source": [
    "def MPresult(image, N):\n",
    "    if N == 1:\n",
    "        return image[0][0]\n",
    "    arr = []\n",
    "    for i in range(0, N, 2):\n",
    "        row = []\n",
    "        for j in range(0, N, 2):\n",
    "            row.append(sorted((image[i][j], image[i][j+1], image[i+1][j], image[i+1][j+1]))[-2])\n",
    "        arr.append(row)\n",
    "    return MPresult(arr, N//2)"
   ]
  },
  {
   "cell_type": "code",
   "execution_count": 69,
   "id": "91c1f8da-968e-4028-9ce0-aff9aa519f77",
   "metadata": {},
   "outputs": [
    {
     "data": {
      "text/plain": [
       "11"
      ]
     },
     "execution_count": 69,
     "metadata": {},
     "output_type": "execute_result"
    }
   ],
   "source": [
    "image = [[-6, -8, 7, -4],\n",
    "         [-5, -5, 14, 11],\n",
    "         [11, 11, -1, -1],\n",
    "         [4, 9, -2, -4]]\n",
    "MPresult(image, 4)"
   ]
  },
  {
   "cell_type": "code",
   "execution_count": 70,
   "id": "543b80cf-62f6-495b-a27d-5aa1cabf040d",
   "metadata": {},
   "outputs": [],
   "source": [
    "string = '''-1 2 14 7 4 -5 8 9\n",
    "10 6 23 2 -1 -1 7 11\n",
    "9 3 5 -2 4 4 6 6\n",
    "7 15 0 8 21 20 6 6\n",
    "19 8 12 -8 4 5 2 9\n",
    "1 2 3 4 5 6 7 8\n",
    "9 10 11 12 13 14 15 16\n",
    "17 18 19 20 21 22 23 24'''\n",
    "a = [list(map(int, line.split())) for line in string.split('\\n')]"
   ]
  },
  {
   "cell_type": "code",
   "execution_count": 71,
   "id": "24d35fa3-058a-43ba-8cb2-209696fa3da3",
   "metadata": {},
   "outputs": [
    {
     "name": "stdout",
     "output_type": "stream",
     "text": [
      "17\n"
     ]
    }
   ],
   "source": [
    "print(MPresult(a, 8))"
   ]
  }
 ],
 "metadata": {
  "kernelspec": {
   "display_name": "Python 3 (ipykernel)",
   "language": "python",
   "name": "python3"
  },
  "language_info": {
   "codemirror_mode": {
    "name": "ipython",
    "version": 3
   },
   "file_extension": ".py",
   "mimetype": "text/x-python",
   "name": "python",
   "nbconvert_exporter": "python",
   "pygments_lexer": "ipython3",
   "version": "3.10.4"
  }
 },
 "nbformat": 4,
 "nbformat_minor": 5
}
