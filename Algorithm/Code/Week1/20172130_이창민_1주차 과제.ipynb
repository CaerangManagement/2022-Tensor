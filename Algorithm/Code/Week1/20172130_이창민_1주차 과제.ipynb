{
 "cells": [
  {
   "cell_type": "code",
   "execution_count": 20,
   "id": "d80595f7",
   "metadata": {},
   "outputs": [
    {
     "name": "stdout",
     "output_type": "stream",
     "text": [
      "3 5\n",
      "0.59999999999999997780\n"
     ]
    }
   ],
   "source": [
    "a, b = input().split()\n",
    "value = int(a) / int(b)\n",
    "print('%.20f'%value)"
   ]
  },
  {
   "cell_type": "code",
   "execution_count": 21,
   "id": "20a6b410",
   "metadata": {},
   "outputs": [
    {
     "name": "stdout",
     "output_type": "stream",
     "text": [
      "200\n",
      "19\n"
     ]
    }
   ],
   "source": [
    "k = int(input())\n",
    "\n",
    "for i in range(1, k):\n",
    "    if i > k:\n",
    "        break\n",
    "    k -= i\n",
    "    Max = i\n",
    "\n",
    "print(Max)"
   ]
  },
  {
   "cell_type": "code",
   "execution_count": null,
   "id": "40718533",
   "metadata": {},
   "outputs": [],
   "source": []
  }
 ],
 "metadata": {
  "kernelspec": {
   "display_name": "Python 3 (ipykernel)",
   "language": "python",
   "name": "python3"
  },
  "language_info": {
   "codemirror_mode": {
    "name": "ipython",
    "version": 3
   },
   "file_extension": ".py",
   "mimetype": "text/x-python",
   "name": "python",
   "nbconvert_exporter": "python",
   "pygments_lexer": "ipython3",
   "version": "3.9.7"
  }
 },
 "nbformat": 4,
 "nbformat_minor": 5
}
