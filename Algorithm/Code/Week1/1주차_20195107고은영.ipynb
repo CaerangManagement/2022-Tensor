{
 "cells": [
  {
   "cell_type": "code",
   "execution_count": 22,
   "id": "fdd1e080",
   "metadata": {
    "scrolled": true
   },
   "outputs": [
    {
     "name": "stdout",
     "output_type": "stream",
     "text": [
      "9 8\n",
      "1.12500000000000000000\n"
     ]
    }
   ],
   "source": [
    "#1번\n",
    "\n",
    "from decimal import Decimal\n",
    "a, b = map(Decimal, input().split())\n",
    "#decimal 사용해 10진수 기반 연산으로 계산해줌\n",
    "result = a / b\n",
    "\n",
    "\n",
    "print('{:.20f}'.format(result))"
   ]
  },
  {
   "cell_type": "code",
   "execution_count": 27,
   "id": "6cce49e0",
   "metadata": {},
   "outputs": [
    {
     "name": "stdout",
     "output_type": "stream",
     "text": [
      "5\n",
      "s = 4\n",
      "s = 2\n",
      "2\n"
     ]
    }
   ],
   "source": [
    "#2번\n",
    "\n",
    "s = int(input())\n",
    "i = 0\n",
    "\n",
    "while s - i > 0:\n",
    "    s -= (i+1)\n",
    "    i += 1\n",
    "    \n",
    "print(i)"
   ]
  },
  {
   "cell_type": "code",
   "execution_count": 6,
   "id": "4f19cb9e",
   "metadata": {},
   "outputs": [
    {
     "name": "stdout",
     "output_type": "stream",
     "text": [
      "4\n",
      "-6 -8 7 -4\n",
      "-5 -5 14 11\n",
      "11 11 -1 -1\n",
      "4 9 -2 -4\n",
      "11\n"
     ]
    }
   ],
   "source": [
    "#3번\n",
    "\n",
    "n = int(input())\n",
    "\n",
    "arr = [ list(map(int, input().split())) for _ in range(n) ]\n",
    "\n",
    "\n",
    "\n",
    "while n > 1:\n",
    "    new_arr = []\n",
    "    for i in range(0,n,2):\n",
    "        new_arr_row = []\n",
    "        for j in range(0,n,2):\n",
    "            if j == n-1:\n",
    "                break\n",
    "            compare_arr = []\n",
    "            compare_arr.append(arr[i][j])\n",
    "            compare_arr.append(arr[i][j+1])\n",
    "            compare_arr.append(arr[i+1][j])\n",
    "            compare_arr.append(arr[i+1][j+1])\n",
    "            \n",
    "            compare_arr.sort()\n",
    "            new_arr_row.append(compare_arr[-2])\n",
    "            #print(new_arr_row)\n",
    "        new_arr.append(new_arr_row)\n",
    "    arr = new_arr\n",
    "    n = len(new_arr)\n",
    "    if n == 1:\n",
    "        result = arr[0][0]\n",
    "\n",
    "print(result)"
   ]
  },
  {
   "cell_type": "code",
   "execution_count": 19,
   "id": "f06c3a4c",
   "metadata": {
    "scrolled": true
   },
   "outputs": [
    {
     "name": "stdout",
     "output_type": "stream",
     "text": [
      "-5\n"
     ]
    }
   ],
   "source": [
    "print(arr[1][0])"
   ]
  },
  {
   "cell_type": "code",
   "execution_count": 22,
   "id": "da7cbc31",
   "metadata": {},
   "outputs": [
    {
     "name": "stdout",
     "output_type": "stream",
     "text": [
      "[3, 2, 8, 4]\n",
      "[2, 3, 4, 8]\n"
     ]
    }
   ],
   "source": [
    "arr1 = [3,2,8,4]\n",
    "print(arr1)\n",
    "arr1.sort()\n",
    "print(arr1)"
   ]
  },
  {
   "cell_type": "code",
   "execution_count": null,
   "id": "823641e7",
   "metadata": {},
   "outputs": [],
   "source": []
  }
 ],
 "metadata": {
  "kernelspec": {
   "display_name": "Python 3 (ipykernel)",
   "language": "python",
   "name": "python3"
  },
  "language_info": {
   "codemirror_mode": {
    "name": "ipython",
    "version": 3
   },
   "file_extension": ".py",
   "mimetype": "text/x-python",
   "name": "python",
   "nbconvert_exporter": "python",
   "pygments_lexer": "ipython3",
   "version": "3.8.8"
  }
 },
 "nbformat": 4,
 "nbformat_minor": 5
}
