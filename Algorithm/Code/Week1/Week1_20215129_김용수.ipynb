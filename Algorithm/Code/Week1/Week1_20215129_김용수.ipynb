{
 "cells": [
  {
   "cell_type": "markdown",
   "id": "819c4141-2f13-428b-ac8d-0af79a4410fc",
   "metadata": {},
   "source": [
    "# 문제1"
   ]
  },
  {
   "cell_type": "markdown",
   "id": "da6a9858-d0d2-47ce-908d-c5ae76ea5cdd",
   "metadata": {},
   "source": [
    "문제1은 파이썬의 경우 float로 실수를 처리합니다. \\\n",
    "그렇기 때문에 float의 이진 부동 소수점 문제를 겪을 수 있습니다. \\\n",
    "이를 해결하기 위해서 십진 부동 소수점으로 처리 가능한 Decimal 모듈을 사용해 정확한 소수점을 알아낼 수 있습니다."
   ]
  },
  {
   "cell_type": "code",
   "execution_count": 1,
   "id": "11413829-95c6-432b-98cb-239e942931ef",
   "metadata": {},
   "outputs": [],
   "source": [
    "from decimal import *"
   ]
  },
  {
   "cell_type": "code",
   "execution_count": 2,
   "id": "dd009ba4-392a-4126-96c5-7df7afdb5ae2",
   "metadata": {},
   "outputs": [
    {
     "name": "stdin",
     "output_type": "stream",
     "text": [
      " 3 7\n"
     ]
    },
    {
     "name": "stdout",
     "output_type": "stream",
     "text": [
      "0.42857142857142857142\n"
     ]
    }
   ],
   "source": [
    "a, b = list(map(int, input().split()))\n",
    "print(Decimal(Decimal(a)/Decimal(b)).quantize(Decimal('1e-20'), rounding=ROUND_DOWN))"
   ]
  },
  {
   "cell_type": "markdown",
   "id": "8f0f654a-7098-4799-b447-5eb06f587302",
   "metadata": {},
   "source": [
    "# 문제2"
   ]
  },
  {
   "cell_type": "markdown",
   "id": "36fee793-6b5a-44ff-8359-1acf7a63133f",
   "metadata": {},
   "source": [
    "서로 다른 자연수들의 합의 최댓값을 구하기 위해서는 최대한 시작 값이 낮아야 합니다.\\\n",
    "이 문제는 자연수를 다루기 때문에 초기값을 1로 설정하였습니다.\\\n",
    "그래서 초기값인 1부터 1씩 더해가며 총 값이 만약 입력된 s와 같으면 바로 출력을, 높다면 1을 뺀 수를 출력해줍니다."
   ]
  },
  {
   "cell_type": "code",
   "execution_count": 3,
   "id": "545e69d4-b5c2-4121-ad37-96c09601d520",
   "metadata": {},
   "outputs": [
    {
     "name": "stdin",
     "output_type": "stream",
     "text": [
      " 200\n"
     ]
    },
    {
     "name": "stdout",
     "output_type": "stream",
     "text": [
      "19\n"
     ]
    }
   ],
   "source": [
    "s = int(input())\n",
    "cnt = 0\n",
    "num = 1\n",
    "summ = 0\n",
    "while summ != s and summ < s:\n",
    "    summ += num\n",
    "    num += 1\n",
    "    cnt += 1\n",
    "    if summ > s:\n",
    "        cnt -= 1\n",
    "        break\n",
    "print(cnt)"
   ]
  },
  {
   "cell_type": "markdown",
   "id": "cddb0c6d-1873-4fd2-9f5e-ff7498701988",
   "metadata": {},
   "source": [
    "# 문제3"
   ]
  },
  {
   "cell_type": "markdown",
   "id": "990a2f4d-2735-41a5-83f2-0483acab6519",
   "metadata": {},
   "source": [
    "문제에서 주어진 222-풀링의 경우 모두 2x2 행렬로 나눠 해당 행렬에서 2번째로 큰 원소를 새로운 행렬에 적용시키며, 이 풀링을 반복하여 1x1 행렬이 되었을 때 남은 원소의 값을 구하고자 합니다.\\\n",
    "이를 위해서는 먼저 행렬이 1x1이 될 때까지 반복시키는 while, 행을 2씩 증가하는 for, 열을 2씩 증가하는 for을 사용해 다중 반복문을 만들어줍니다.\\\n",
    "\\\n",
    "반복문 내에서는 각 행과 열을 통해 위치의 2x2 행렬의 원소 값의 리스트를 만들고, 해당 행렬에서 2번째로 큰 값을 구합니다.\\\n",
    "그리고 해당 값을 각 행의 새로운 리스트의 열을 담당하는 tmp_lst1 리스트에 추가해줍니다.\\\n",
    "새로운 행렬의 각 행의 열이 모두 구해졌다면, 새로운 리스트 lst2에 해당 행의 열의 값으로 추가해줌을 반복하여 풀링이 진행된 새로운 행렬을 만들어줍니다.\\\n",
    "그리고 lst1을 새로운 행렬로 설정하고, 새로운 행렬을 구하게 될 lst2는 새롭게 초기화해줍니다.\\\n",
    "\\\n",
    "그리고 이 과정을 1x1 행렬이 될 때까지 반복하여 1x1 행렬의 남은 원소의 값을 구하게 됩니다."
   ]
  },
  {
   "cell_type": "code",
   "execution_count": 4,
   "id": "c44e2742-2b2e-4104-b196-994610acdf85",
   "metadata": {},
   "outputs": [
    {
     "name": "stdin",
     "output_type": "stream",
     "text": [
      " 4\n",
      " -6 -8 7 -4\n",
      " -5 -5 14 11\n",
      " 11 11 -1 -1\n",
      " 4 9 -2 -4\n"
     ]
    },
    {
     "name": "stdout",
     "output_type": "stream",
     "text": [
      "11\n"
     ]
    }
   ],
   "source": [
    "n = int(input())\n",
    "lst1 = [list(map(int, input().split()))for _ in range(n)]\n",
    "lst2 = []\n",
    "while len(lst1) != 1:\n",
    "    for i in range(0, len(lst1), 2):\n",
    "        tmp_lst1 = []\n",
    "        for j in range(0, len(lst1), 2):\n",
    "            tmp_lst2 = [lst1[i][j], lst1[i][j+1], lst1[i+1][j], lst1[i+1][j+1]]\n",
    "            tmp_lst2.remove(max(tmp_lst2))\n",
    "            tmp_lst1.append(max(tmp_lst2))\n",
    "        lst2.append(tmp_lst1)\n",
    "    lst1 = lst2\n",
    "    lst2 = []\n",
    "print(lst1[0][0])"
   ]
  }
 ],
 "metadata": {
  "kernelspec": {
   "display_name": "Python 3",
   "language": "python",
   "name": "python3"
  },
  "language_info": {
   "codemirror_mode": {
    "name": "ipython",
    "version": 3
   },
   "file_extension": ".py",
   "mimetype": "text/x-python",
   "name": "python",
   "nbconvert_exporter": "python",
   "pygments_lexer": "ipython3",
   "version": "3.8.8"
  }
 },
 "nbformat": 4,
 "nbformat_minor": 5
}
