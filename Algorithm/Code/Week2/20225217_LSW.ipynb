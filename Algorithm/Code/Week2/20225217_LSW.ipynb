{
  "nbformat": 4,
  "nbformat_minor": 0,
  "metadata": {
    "colab": {
      "name": "20225217_LSW.ipynb",
      "provenance": [],
      "collapsed_sections": []
    },
    "kernelspec": {
      "name": "python3",
      "display_name": "Python 3"
    },
    "language_info": {
      "name": "python"
    }
  },
  "cells": [
    {
      "cell_type": "code",
      "execution_count": 92,
      "metadata": {
        "colab": {
          "base_uri": "https://localhost:8080/"
        },
        "id": "6qlsY_JvHzIc",
        "outputId": "297565e2-3954-4c7a-a7cc-659ac4b59eb5"
      },
      "outputs": [
        {
          "output_type": "stream",
          "name": "stdout",
          "text": [
            "3 7\n",
            "0.42857142857142857143\n"
          ]
        }
      ],
      "source": [
        "#20225217 이신우\n",
        "#1. 두 자연수 a, b를 입력받아 a / b 결과를 소수점 20째자리까지 출력하는 프로그램을 작성.\n",
        "\n",
        "#float 연산은 십진수 기반이 아닌 이진수 기반 연산이다.\n",
        "# decimal.Decimal은 숫자를 10진수로 처리하여 정확한 소수점 자릿수를 표현할 때 사용하는 모듈이다.\n",
        "from decimal import Decimal \n",
        "\n",
        "# split과 map함수를 활용하여 숫자를 공백을 기준으로 나눠서 입력받는다\n",
        "a, b = map(int, input().split()) \n",
        "\n",
        "# format 메소드를 이용하여 \"{:.nf}\" .format()) n번째 자리수 까지 나타낼 수 있다.\n",
        "print(\"{:.20f}\".format(Decimal(a) / Decimal(b)))\n",
        "\n"
      ]
    },
    {
      "cell_type": "code",
      "source": [
        "#20225217 이신우\n",
        "# 2.서로 다른 N개의 자연수의 합이 S라고 한다. S를 알 때, 자연수 N의 최댓값은 얼마일까?\n",
        "\n",
        "s = int(input())\n",
        "n=1\n",
        "\n",
        "while n*(n+1) / 2 <= s: #  n * (n + 1) / 2는 1부터 n까지의 합의 공식이다.\n",
        "  n += 1\n",
        "print(n-1)"
      ],
      "metadata": {
        "colab": {
          "base_uri": "https://localhost:8080/"
        },
        "id": "EPSNAcmcH6Vn",
        "outputId": "15b73f76-c766-4a6e-f728-5f051ab3a78d"
      },
      "execution_count": 95,
      "outputs": [
        {
          "output_type": "stream",
          "name": "stdout",
          "text": [
            "200\n",
            "19\n"
          ]
        }
      ]
    }
  ]
}