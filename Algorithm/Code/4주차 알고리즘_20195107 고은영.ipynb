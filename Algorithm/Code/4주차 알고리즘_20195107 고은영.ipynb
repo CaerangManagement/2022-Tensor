{
 "cells": [
  {
   "cell_type": "code",
   "execution_count": 2,
   "id": "2fb3cd00",
   "metadata": {},
   "outputs": [
    {
     "name": "stdout",
     "output_type": "stream",
     "text": [
      "14\n",
      "4 26456 2 28 13228 3307 7 23149 8 6614 46298 56 4 92596\n",
      "185192\n"
     ]
    }
   ],
   "source": [
    "#문제 1\n",
    "\n",
    "n = int(input())\n",
    "divarr = list(map(int, input().split()))\n",
    "\n",
    "divarr.sort()\n",
    "N = divarr[0] * divarr[n-1] #약수 중 가장 큰 값과 가장 작은 값을 곱하면 해당 수를 구할 수 있음\n",
    "print(N)"
   ]
  },
  {
   "cell_type": "code",
   "execution_count": 7,
   "id": "06da8259",
   "metadata": {},
   "outputs": [
    {
     "name": "stdout",
     "output_type": "stream",
     "text": [
      "2\n",
      "10 10\n",
      "20 20\n",
      "[[0.36732819801898575, 2], [0.18366409900949288, 1]]\n",
      "2\n",
      "1\n"
     ]
    }
   ],
   "source": [
    "#문제2\n",
    "import math\n",
    "\n",
    "n = int(input())\n",
    "arr = [ list(map(int, input().split())) for _ in range(n) ]\n",
    "PPIarr = []\n",
    "\n",
    "for i in range(n):\n",
    "    W = arr[i][0]\n",
    "    H = arr[i][1]\n",
    "    PPI = math.sqrt((W**2) + (H**2)) / 77\n",
    "    PPIarr.append([PPI, i+1])\n",
    "    \n",
    "PPIarr.sort(key = lambda x :-x[0])\n",
    "#print(PPIarr)\n",
    "for j in range(n):\n",
    "    print(PPIarr[j][1])"
   ]
  },
  {
   "cell_type": "code",
   "execution_count": 16,
   "id": "098f40c0",
   "metadata": {},
   "outputs": [
    {
     "name": "stdout",
     "output_type": "stream",
     "text": [
      "2\n",
      "255 255 255\n",
      "255 130 151\n",
      "255 255 255\n",
      "115\n"
     ]
    }
   ],
   "source": [
    "#문제3\n",
    "import sys\n",
    "\n",
    "n = int(input())\n",
    "arr = [ list(map(int, input().split())) for _ in range(n) ]\n",
    "gom = list(map(int, input().split()))\n",
    "new_R, new_G, new_B = 0, 0, 0\n",
    "numhubo= []\n",
    "result = sys.maxint\n",
    "        \n",
    "def bbobgi():\n",
    "    a = 2#뽑을 물감 수 a\n",
    "    b = 0 #시작 인덱스\n",
    "    global new_R, new_G, new_B, result\n",
    "    while b == (n-a):\n",
    "        for i in range(b,a-b):\n",
    "            new_R += arr[i][0]\n",
    "            new_G += arr[i][1]\n",
    "            new_B += arr[i][2]\n",
    "        b += 1\n",
    "        \n",
    "        new_R //= a\n",
    "        new_G //= a\n",
    "        new_B //= a\n",
    "    \n",
    "        for i in range(3):\n",
    "            result = min(result, abs(new_R-gom[0]) + abs(new_G-gom[1]) + abs(new_B-gom[2]))\n",
    "    \n",
    "    \n",
    "for i in range(3):\n",
    "    for j in range(n):\n",
    "        mun[i] += arr[j][i]\n",
    "    mun[i] //= n    \n",
    "#print(mun)\n",
    "\n",
    "\n",
    "for i in range(3):\n",
    "    result += abs(mun[i]-gom[i])\n",
    "    \n",
    "print(result)"
   ]
  },
  {
   "cell_type": "code",
   "execution_count": 9,
   "id": "8e831959",
   "metadata": {},
   "outputs": [
    {
     "name": "stdout",
     "output_type": "stream",
     "text": [
      "[0, 0, 0, 255, 0, 0, 0, 255, 0, 0, 0, 255]\n"
     ]
    }
   ],
   "source": [
    "print(mun)"
   ]
  },
  {
   "cell_type": "code",
   "execution_count": null,
   "id": "203fe076",
   "metadata": {},
   "outputs": [],
   "source": []
  }
 ],
 "metadata": {
  "kernelspec": {
   "display_name": "Python 3 (ipykernel)",
   "language": "python",
   "name": "python3"
  },
  "language_info": {
   "codemirror_mode": {
    "name": "ipython",
    "version": 3
   },
   "file_extension": ".py",
   "mimetype": "text/x-python",
   "name": "python",
   "nbconvert_exporter": "python",
   "pygments_lexer": "ipython3",
   "version": "3.8.8"
  }
 },
 "nbformat": 4,
 "nbformat_minor": 5
}
