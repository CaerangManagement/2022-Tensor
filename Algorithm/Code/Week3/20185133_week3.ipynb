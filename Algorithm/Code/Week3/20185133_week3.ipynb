{
 "cells": [
  {
   "cell_type": "code",
   "execution_count": null,
   "metadata": {
    "collapsed": true,
    "pycharm": {
     "name": "#%%\n",
     "is_executing": true
    }
   },
   "outputs": [],
   "source": [
    "# 문제 1 (#13458)\n",
    "\n",
    "N = int(input())\n",
    "A = list(map(int, input().split()))\n",
    "B, C = map(int, input().split())\n",
    "\n",
    "def sub(e):\n",
    "    quot, remain = 0, 0\n",
    "    e = e - B\n",
    "    if e > 0:\n",
    "        quot, remain = divmod(e, C)\n",
    "\n",
    "        if remain > 0:\n",
    "            quot += 1\n",
    "\n",
    "    return quot\n",
    "\n",
    "answer = sum(list(map(sub , A)), N)\n",
    "\n",
    "print(answer)"
   ]
  },
  {
   "cell_type": "code",
   "execution_count": null,
   "outputs": [],
   "source": [
    "# 문제 2 (#11650)\n",
    "import sys\n",
    "\n",
    "N = int(input())\n",
    "answer = []\n",
    "\n",
    "for _ in range(N):\n",
    "    answer.append(tuple(map(int, sys.stdin.readline().split())))\n",
    "\n",
    "answer = sorted(answer)\n",
    "\n",
    "for x, y in answer:\n",
    "    print(f'{x} {y}')"
   ],
   "metadata": {
    "collapsed": false,
    "pycharm": {
     "name": "#%%\n",
     "is_executing": true
    }
   }
  }
 ],
 "metadata": {
  "kernelspec": {
   "display_name": "Python 3",
   "language": "python",
   "name": "python3"
  },
  "language_info": {
   "codemirror_mode": {
    "name": "ipython",
    "version": 2
   },
   "file_extension": ".py",
   "mimetype": "text/x-python",
   "name": "python",
   "nbconvert_exporter": "python",
   "pygments_lexer": "ipython2",
   "version": "2.7.6"
  }
 },
 "nbformat": 4,
 "nbformat_minor": 0
}