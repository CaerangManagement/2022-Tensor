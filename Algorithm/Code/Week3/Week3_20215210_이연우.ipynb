{
 "cells": [
  {
   "cell_type": "markdown",
   "id": "8b663fae",
   "metadata": {},
   "source": [
    "### 문제 1 시험감독 (백준 13458)"
   ]
  },
  {
   "cell_type": "code",
   "execution_count": 2,
   "id": "56dfa479",
   "metadata": {},
   "outputs": [
    {
     "name": "stdout",
     "output_type": "stream",
     "text": [
      "3\n",
      "3 4 5\n",
      "2 2\n",
      "7\n"
     ]
    }
   ],
   "source": [
    "N = int(input()) # 시험장의 개수\n",
    "Ai = list(map(int, input().split())) # 각 시험장에 있는 응시자의 수\n",
    "B, C = map(int, input().split()) # 한 시험장에서 감시할 수 있는 응시자의 수\n",
    "\n",
    "main_proctor = 0 # 총감독관의 수\n",
    "sub_proctor = 0 # 부감독관의 수\n",
    "\n",
    "for i in Ai :\n",
    "  remain = i - B\n",
    "  main_proctor = main_proctor + 1\n",
    "  if (remain == 0) :\n",
    "    break\n",
    "  else :\n",
    "    sub_proctor += remain // C\n",
    "    if ((remain % C) != 0) :\n",
    "      sub_proctor = sub_proctor + 1\n",
    "\n",
    "result = main_proctor + sub_proctor\n",
    "print(result)"
   ]
  },
  {
   "cell_type": "markdown",
   "id": "7ae08a99",
   "metadata": {},
   "source": [
    "### 문제 3 골드바흐의 추측 (백준 6588)"
   ]
  },
  {
   "cell_type": "code",
   "execution_count": 3,
   "id": "ba8a50ea",
   "metadata": {},
   "outputs": [
    {
     "name": "stdout",
     "output_type": "stream",
     "text": [
      "8\n",
      "20\n",
      "42\n",
      "0\n",
      "8 = 3 + 5\n",
      "20 = 3 + 17\n",
      "42 = 5 + 37\n",
      "\n"
     ]
    }
   ],
   "source": [
    "# 테스트 케이스를 입력받아 배열에 저장\n",
    "arr = []\n",
    "while (True) :\n",
    "  num = int(input())\n",
    "  if (num == 0) :\n",
    "    break\n",
    "  arr.append(num)\n",
    "  \n",
    "# 에라토스테네스의 체\n",
    "primes = [True for _ in range(1000001)]\n",
    "for i in range(2, 1000001) :\n",
    "  if (primes[i]) :\n",
    "    j = i * i\n",
    "    while (j < 1000001) :\n",
    "      primes[j] = False\n",
    "      j += i\n",
    "\n",
    "# 각 테스트 케이스에 대해서, n = a + b 형태로 출력\n",
    "result = \"\"\n",
    "flag = False\n",
    "for i in arr :\n",
    "  for j in range(3, i, 2) :\n",
    "    if (primes[j] and primes[i-j]) :\n",
    "      result += f\"{i} = {j} + {i-j}\\n\"\n",
    "      flag = True\n",
    "      break\n",
    "  if (j == 1) :\n",
    "    result += \"Goldbach's conjecture is wrong.\\n\"\n",
    "\n",
    "print(result)"
   ]
  },
  {
   "cell_type": "code",
   "execution_count": null,
   "id": "16aa767c",
   "metadata": {},
   "outputs": [],
   "source": []
  }
 ],
 "metadata": {
  "kernelspec": {
   "display_name": "Python 3 (ipykernel)",
   "language": "python",
   "name": "python3"
  },
  "language_info": {
   "codemirror_mode": {
    "name": "ipython",
    "version": 3
   },
   "file_extension": ".py",
   "mimetype": "text/x-python",
   "name": "python",
   "nbconvert_exporter": "python",
   "pygments_lexer": "ipython3",
   "version": "3.9.12"
  }
 },
 "nbformat": 4,
 "nbformat_minor": 5
}
