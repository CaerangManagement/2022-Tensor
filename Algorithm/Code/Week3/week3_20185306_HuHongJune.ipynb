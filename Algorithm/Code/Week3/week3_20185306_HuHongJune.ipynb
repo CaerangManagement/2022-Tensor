{
 "cells": [
  {
   "cell_type": "code",
   "execution_count": 1,
   "id": "279146dc-0c84-4269-9102-8cb4391a3c13",
   "metadata": {},
   "outputs": [
    {
     "ename": "SyntaxError",
     "evalue": "unexpected character after line continuation character (2175900193.py, line 1)",
     "output_type": "error",
     "traceback": [
      "\u001b[1;36m  Input \u001b[1;32mIn [1]\u001b[1;36m\u001b[0m\n\u001b[1;33m    test = int(input())\\n\u001b[0m\n\u001b[1;37m                        ^\u001b[0m\n\u001b[1;31mSyntaxError\u001b[0m\u001b[1;31m:\u001b[0m unexpected character after line continuation character\n"
     ]
    }
   ],
   "source": [
    "test = int(input())\n",
    "test2 = list(map(int, input().split()))\n",
    "overSeer_A, overSeer_B = map(int, input().split())\n",
    "overSeer = 0\n",
    "for i in test2:\n",
    "    if i <= overSeer_A:\n",
    "        overSeer += 1\n",
    "        elif (i - overSeer_A) % overSeer_B == 0:\n",
    "            overSeer += (i - overSeer_A) // overSeer_B + 1\n",
    "        else:\n",
    "            overSeer += ((i - overSeer_A) // overSeer_B) + 2\n",
    "print(overSeer)"
   ]
  },
  {
   "cell_type": "code",
   "execution_count": 2,
   "id": "c0934f56-7c8e-496e-92ef-821bf3784460",
   "metadata": {},
   "outputs": [
    {
     "name": "stdin",
     "output_type": "stream",
     "text": [
      " 20\n"
     ]
    },
    {
     "name": "stdout",
     "output_type": "stream",
     "text": [
      "20 = 3 + 17\n"
     ]
    },
    {
     "name": "stdin",
     "output_type": "stream",
     "text": [
      " 50\n"
     ]
    },
    {
     "name": "stdout",
     "output_type": "stream",
     "text": [
      "50 = 3 + 47\n"
     ]
    },
    {
     "name": "stdin",
     "output_type": "stream",
     "text": [
      " 90\n"
     ]
    },
    {
     "name": "stdout",
     "output_type": "stream",
     "text": [
      "90 = 7 + 83\n"
     ]
    },
    {
     "name": "stdin",
     "output_type": "stream",
     "text": [
      " 70\n"
     ]
    },
    {
     "name": "stdout",
     "output_type": "stream",
     "text": [
      "70 = 3 + 67\n"
     ]
    },
    {
     "name": "stdin",
     "output_type": "stream",
     "text": [
      " 80\n"
     ]
    },
    {
     "name": "stdout",
     "output_type": "stream",
     "text": [
      "80 = 7 + 73\n"
     ]
    },
    {
     "name": "stdin",
     "output_type": "stream",
     "text": [
      " 50\n"
     ]
    },
    {
     "name": "stdout",
     "output_type": "stream",
     "text": [
      "50 = 3 + 47\n"
     ]
    },
    {
     "name": "stdin",
     "output_type": "stream",
     "text": [
      " 0\n"
     ]
    }
   ],
   "source": [
    "a = [True] * 1000001\n",
    "p = []\n",
    "\n",
    "for i in range(2, 1001):\n",
    "    if a[i]:\n",
    "        for j in range(2*i, 1000001, i):\n",
    "            a[j] = False\n",
    "while(True):\n",
    "    n = int(input())\n",
    "    if n == 0:\n",
    "        break\n",
    "    for i in range(3, len(a)):\n",
    "        if a[i] and a[n-i]:\n",
    "            print(n, '=', i, '+', n-i)\n",
    "            break"
   ]
  },
  {
   "cell_type": "code",
   "execution_count": null,
   "id": "4bc8a9a6-0da8-4ea1-bc94-3dec3a850817",
   "metadata": {},
   "outputs": [],
   "source": []
  }
 ],
 "metadata": {
  "kernelspec": {
   "display_name": "Python 3 (ipykernel)",
   "language": "python",
   "name": "python3"
  },
  "language_info": {
   "codemirror_mode": {
    "name": "ipython",
    "version": 3
   },
   "file_extension": ".py",
   "mimetype": "text/x-python",
   "name": "python",
   "nbconvert_exporter": "python",
   "pygments_lexer": "ipython3",
   "version": "3.9.12"
  }
 },
 "nbformat": 4,
 "nbformat_minor": 5
}
