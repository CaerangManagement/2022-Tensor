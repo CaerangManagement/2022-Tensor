{
 "cells": [
  {
   "cell_type": "code",
   "execution_count": 62,
   "id": "e9dc4283-a7bb-49ea-9040-6fabdb78c22c",
   "metadata": {},
   "outputs": [
    {
     "name": "stdin",
     "output_type": "stream",
     "text": [
      " 1\n",
      " 1\n",
      " 1 1\n"
     ]
    },
    {
     "name": "stdout",
     "output_type": "stream",
     "text": [
      "1\n"
     ]
    }
   ],
   "source": [
    "#문제 1\n",
    "\n",
    "N = int(input())\n",
    "Ai = list(map(int, input().split()))\n",
    "x = list(map(int, input().split()))\n",
    "C = x[0]\n",
    "D = x[1]\n",
    "\n",
    "Ax =[i-C for i in Ai]\n",
    "\n",
    "res = N\n",
    "for n in Ax:\n",
    "    if(n % D == 0):\n",
    "        res += (n//D)\n",
    "    else:\n",
    "        res +=((n//D)+1)\n",
    "        \n",
    "print(res)"
   ]
  },
  {
   "cell_type": "code",
   "execution_count": 63,
   "id": "d930d220-9861-4e03-8d51-334fa933d376",
   "metadata": {},
   "outputs": [
    {
     "name": "stdin",
     "output_type": "stream",
     "text": [
      " 5\n",
      " 3 4\n",
      " 1 1\n",
      " 1 -1\n",
      " 2 2\n",
      " 3 3\n"
     ]
    },
    {
     "name": "stdout",
     "output_type": "stream",
     "text": [
      "1 -1\n",
      "1 1\n",
      "2 2\n",
      "3 3\n",
      "3 4\n"
     ]
    }
   ],
   "source": [
    "#문제2\n",
    "\n",
    "N = int(input())\n",
    "a = []\n",
    "for i in range(N):\n",
    "    a.append(list(map(int, input().split())))\n",
    "\n",
    "s = sorted(a)\n",
    "\n",
    "for i in range(N):\n",
    "    print(s[i][0], s[i][1])"
   ]
  },
  {
   "cell_type": "code",
   "execution_count": null,
   "id": "c6ce26f6-c141-43ac-9ff4-bf66405cff41",
   "metadata": {},
   "outputs": [],
   "source": []
  }
 ],
 "metadata": {
  "kernelspec": {
   "display_name": "Python 3 (ipykernel)",
   "language": "python",
   "name": "python3"
  },
  "language_info": {
   "codemirror_mode": {
    "name": "ipython",
    "version": 3
   },
   "file_extension": ".py",
   "mimetype": "text/x-python",
   "name": "python",
   "nbconvert_exporter": "python",
   "pygments_lexer": "ipython3",
   "version": "3.9.7"
  }
 },
 "nbformat": 4,
 "nbformat_minor": 5
}
