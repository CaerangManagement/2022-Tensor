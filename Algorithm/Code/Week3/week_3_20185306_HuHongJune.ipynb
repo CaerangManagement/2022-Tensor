{
  "nbformat": 4,
  "nbformat_minor": 0,
  "metadata": {
    "colab": {
      "name": "week_3_20185306_허홍준.ipynb",
      "provenance": [],
      "collapsed_sections": []
    },
    "kernelspec": {
      "name": "python3",
      "display_name": "Python 3"
    },
    "language_info": {
      "name": "python"
    }
  },
  "cells": [
    {
      "cell_type": "markdown",
      "source": [
        "13458"
      ],
      "metadata": {
        "id": "E_YyK657cdox"
      }
    },
    {
      "cell_type": "code",
      "source": [
        "test = int(input())\n",
        "test2 = list(map(int, input().split()))\n",
        "overSeer_A, overSeer_B = map(int, input().split())\n",
        "overSeer = 0\n",
        "for i in test2:\n",
        "    if i <= overSeer_A:\n",
        "        overSeer += 1\n",
        "    elif (i - overSeer_A) % overSeer_B == 0:\n",
        "        overSeer += (i - overSeer_A) // overSeer_B + 1\n",
        "    else:\n",
        "        overSeer += ((i - overSeer_A) // overSeer_B) + 2\n",
        "    \n",
        "\n",
        "print(overSeer)"
      ],
      "metadata": {
        "id": "wtvNjxO1cgCN"
      },
      "execution_count": null,
      "outputs": []
    },
    {
      "cell_type": "markdown",
      "source": [
        "6588"
      ],
      "metadata": {
        "id": "3IbeYbbrciJ6"
      }
    },
    {
      "cell_type": "code",
      "source": [
        "a = [True] * 1000001\n",
        "p = []\n",
        "\n",
        "for i in range(2, 1001):\n",
        "    if a[i]:\n",
        "        for j in range(2*i, 1000001, i):\n",
        "            a[j] = False\n",
        "        \n",
        "while(True):\n",
        "    n = int(input())\n",
        "    if n == 0:\n",
        "        break\n",
        "    \n",
        "    for i in range(3, len(a)):\n",
        "        if a[i] and a[n-i]:\n",
        "            print(n, \"=\", i, \"+\", n-i)\n",
        "            break"
      ],
      "metadata": {
        "id": "Qkw_0WFXclsa"
      },
      "execution_count": null,
      "outputs": []
    }
  ]
}