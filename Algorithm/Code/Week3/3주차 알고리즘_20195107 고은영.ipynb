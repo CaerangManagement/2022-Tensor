{
 "cells": [
  {
   "cell_type": "code",
   "execution_count": 57,
   "id": "21232178",
   "metadata": {},
   "outputs": [
    {
     "name": "stdout",
     "output_type": "stream",
     "text": [
      "1\n",
      "5\n",
      "6 1\n",
      "1\n"
     ]
    }
   ],
   "source": [
    "#1번\n",
    "import math\n",
    "n = int(input())\n",
    "a = list(map(int, (input().split())))\n",
    "b,c = map(int,(input().split()))\n",
    "\n",
    "sum_least_n = 0\n",
    "for i in range(n):\n",
    "    bugam_n = math.ceil((a[i] - b) / c)\n",
    "    #print(i,\"번째 방 부감독 수 : \",bugam_n)\n",
    "    if bugam_n >= 0:\n",
    "        sum_least_n += bugam_n\n",
    "\n",
    "sum_least_n += n\n",
    "\n",
    "\n",
    "print(sum_least_n)"
   ]
  },
  {
   "cell_type": "code",
   "execution_count": 65,
   "id": "cc9ec74a",
   "metadata": {
    "scrolled": true
   },
   "outputs": [
    {
     "name": "stdout",
     "output_type": "stream",
     "text": [
      "5\n",
      "1 1\n",
      "1 -1\n",
      "2 2\n",
      "3 4\n",
      "3 3\n",
      "1 -1\n",
      "1 1\n",
      "2 2\n",
      "3 3\n",
      "3 4\n"
     ]
    }
   ],
   "source": [
    "#2번\n",
    "n = int(input())\n",
    "arr = [ list(map(int, input().split())) for _ in range(n) ]\n",
    "\n",
    "sorted_arr = sorted(arr, key = lambda x : (x[0],x[1]))\n",
    "\n",
    "for i in range(len(arr)):\n",
    "    print(*sorted_arr[i])"
   ]
  }
 ],
 "metadata": {
  "kernelspec": {
   "display_name": "Python 3 (ipykernel)",
   "language": "python",
   "name": "python3"
  },
  "language_info": {
   "codemirror_mode": {
    "name": "ipython",
    "version": 3
   },
   "file_extension": ".py",
   "mimetype": "text/x-python",
   "name": "python",
   "nbconvert_exporter": "python",
   "pygments_lexer": "ipython3",
   "version": "3.8.8"
  }
 },
 "nbformat": 4,
 "nbformat_minor": 5
}
