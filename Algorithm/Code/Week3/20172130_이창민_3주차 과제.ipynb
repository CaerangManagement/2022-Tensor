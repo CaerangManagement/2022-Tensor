{
 "cells": [
  {
   "cell_type": "markdown",
   "id": "b73acc00",
   "metadata": {},
   "source": [
    "# 3주차 알고리즘 문제\n",
    "제출 정보 : 아래 주어진 3문제 중 2문제를 풀어서 제출하시면 됩니다."
   ]
  },
  {
   "cell_type": "markdown",
   "id": "ba48fcbe",
   "metadata": {},
   "source": [
    "## 문제 1 시험감독 (백준 13458)\n",
    "난이도 : 브론즈 2 <br>\n",
    "링크 : [백준 13458](https://www.acmicpc.net/problem/13458)\n",
    "\n",
    "```\n",
    "총 N개의 시험장이 있고, 각각의 시험장마다 응시자들이 있다. i번 시험장에 있는 응시자의 수는 Ai명이다.\n",
    "\n",
    "감독관은 총감독관과 부감독관으로 두 종류가 있다. 총감독관은 한 시험장에서 감시할 수 있는 응시자의 수가 B명이고,\n",
    "부감독관은 한 시험장에서 감시할 수 있는 응시자의 수가 C명이다.\n",
    "\n",
    "각각의 시험장에 총감독관은 오직 1명만 있어야 하고, 부감독관은 여러 명 있어도 된다.\n",
    "\n",
    "각 시험장마다 응시생들을 모두 감시해야 한다. 이때, 필요한 감독관 수의 최솟값을 구하는 프로그램을 작성하시오.\n",
    "\n",
    "```\n",
    "\n",
    "### 입력\n",
    "첫째 줄에 시험장의 개수 N(1 ≤ N ≤ 1,000,000)이 주어진다.\n",
    "\n",
    "둘째 줄에는 각 시험장에 있는 응시자의 수 Ai (1 ≤ Ai ≤ 1,000,000)가 주어진다.\n",
    "\n",
    "셋째 줄에는 B와 C가 주어진다. (1 ≤ B, C ≤ 1,000,000)\n",
    "\n",
    "### 출력\n",
    "각 시험장마다 응시생을 모두 감독하기 위해 필요한 감독관의 최소 수를 출력한다.\n",
    "\n",
    "### 입력양식\n",
    "``` \n",
    "1\n",
    "1\n",
    "1 1\n",
    "```\n",
    "### 출력양식\n",
    "```\n",
    "1\n",
    "```"
   ]
  },
  {
   "cell_type": "code",
   "execution_count": 17,
   "id": "c0c688d7",
   "metadata": {},
   "outputs": [
    {
     "name": "stdout",
     "output_type": "stream",
     "text": [
      "5\n",
      "1000000 1000000 1000000 1000000 1000000\n",
      "5 7\n",
      "714290\n"
     ]
    }
   ],
   "source": [
    "n = int(input())\n",
    "a = list(map(int, input().split()))\n",
    "b, c = map(int, input().split())\n",
    "\n",
    "total = 0\n",
    "\n",
    "for i in a:\n",
    "    i -= b\n",
    "    total += 1\n",
    "    if(i % c > 0):\n",
    "        total += (i // c) + 1\n",
    "    else:\n",
    "        total += (i // c)\n",
    "\n",
    "print(total)"
   ]
  },
  {
   "cell_type": "markdown",
   "id": "776cde54",
   "metadata": {},
   "source": [
    "# 문제 2 좌표  (백준 11650)\n",
    "난이도 : 실버 5 <br>\n",
    "링크 : [백준 11650](https://www.acmicpc.net/problem/11650)\n",
    "\n",
    "```\n",
    "2차원 평면 위의 점 N개가 주어진다. 좌표를 x좌표가 증가하는 순으로,\n",
    "x좌표가 같으면 y좌표가 증가하는 순서로 정렬한 다음 출력하는 프로그램을 작성하시오.\n",
    "```\n",
    "\n",
    "### 입력\n",
    "첫째 줄에 점의 개수 N (1 ≤ N ≤ 100,000)이 주어진다. 둘째 줄부터 N개의 줄에는 i번점의 위치 xi와 yi가 주어진다. <br>\n",
    "(-100,000 ≤ xi, yi ≤ 100,000) 좌표는 항상 정수이고, 위치가 같은 두 점은 없다.\n",
    "\n",
    "### 출력\n",
    "첫째 줄부터 N개의 줄에 점을 정렬한 결과를 출력한다.\n",
    "\n",
    "### 입력양식\n",
    "``` \n",
    "5\n",
    "3 4\n",
    "1 1\n",
    "1 -1\n",
    "2 2\n",
    "3 3\n",
    "```\n",
    "### 출력양식\n",
    "```\n",
    "1 -1\n",
    "1 1\n",
    "2 2\n",
    "3 3\n",
    "3 4\n",
    "```"
   ]
  },
  {
   "cell_type": "code",
   "execution_count": 33,
   "id": "b70a7b67",
   "metadata": {},
   "outputs": [
    {
     "name": "stdout",
     "output_type": "stream",
     "text": [
      "5\n",
      "3 4\n",
      "1 1\n",
      "1 -1\n",
      "2 2\n",
      "3 3\n",
      "1 -1 \n",
      "1 1 \n",
      "2 2 \n",
      "3 3 \n",
      "3 4 \n"
     ]
    }
   ],
   "source": [
    "n = int(input())\n",
    "lst = list()\n",
    "\n",
    "for i in range(0,n):\n",
    "    t = tuple(map(int, input().split()))\n",
    "    lst.append(t)\n",
    "\n",
    "lst.sort(key=lambda x:(x[0], x[1]))\n",
    "\n",
    "for i in range(0,n):\n",
    "    for j in lst[i]:\n",
    "        print(j, end=' ')\n",
    "    print()"
   ]
  },
  {
   "cell_type": "markdown",
   "id": "596f63c3",
   "metadata": {},
   "source": [
    "## 문제 3 골드바흐의 추측 (백준 6588)\n",
    "난이도 : 실버 1 <br>\n",
    "링크 : [백준 6588](https://www.acmicpc.net/problem/6588)\n",
    "\n",
    "```\n",
    "1742년, 독일의 아마추어 수학가 크리스티안 골드바흐는 레온하르트 오일러에게 다음과 같은 추측을 제안하는 편지를 보냈다.\n",
    "\n",
    ">> 4보다 큰 모든 짝수는 두 홀수 소수의 합으로 나타낼 수 있다.\n",
    "\n",
    "예를 들어 8은 3 + 5로 나타낼 수 있고, 3과 5는 모두 홀수인 소수이다. \n",
    "또, 20 = 3 + 17 = 7 + 13, 42 = 5 + 37 = 11 + 31 = 13 + 29 = 19 + 23 이다.\n",
    "\n",
    "이 추측은 아직도 해결되지 않은 문제이다.\n",
    "\n",
    "백만 이하의 모든 짝수에 대해서, 이 추측을 검증하는 프로그램을 작성하시오.\n",
    "```\n",
    "\n",
    "### 입력\n",
    "입력은 하나 또는 그 이상의 테스트 케이스로 이루어져 있다. 테스트 케이스의 개수는 100,000개를 넘지 않는다.\n",
    "\n",
    "각 테스트 케이스는 짝수 정수 n 하나로 이루어져 있다. (6 ≤ n ≤ 1000000)\n",
    "\n",
    "입력의 마지막 줄에는 0이 하나 주어진다.\n",
    "\n",
    "### 출력\n",
    "각 테스트 케이스에 대해서, n = a + b 형태로 출력한다. 이때, a와 b는 홀수 소수이다. 숫자와 연산자는 공백 하나로 구분되어져 있다. \n",
    "만약, n을 만들 수 있는 방법이 여러 가지라면, b-a가 가장 큰 것을 출력한다. \n",
    "또, 두 홀수 소수의 합으로 n을 나타낼 수 없는 경우에는 \"Goldbach's conjecture is wrong.\"을 출력한다.\n",
    "\n",
    "### 입력양식\n",
    "``` \n",
    "8\n",
    "20\n",
    "42\n",
    "0\n",
    "```\n",
    "### 출력양식\n",
    "```\n",
    "8 = 3 + 5\n",
    "20 = 3 + 17\n",
    "42 = 5 + 37\n",
    "```"
   ]
  },
  {
   "cell_type": "code",
   "execution_count": null,
   "id": "69dc463b",
   "metadata": {},
   "outputs": [
    {
     "name": "stdout",
     "output_type": "stream",
     "text": [
      "8\n",
      "8 = 3 + 5\n",
      "20\n",
      "20 = 3 + 17\n",
      "42\n",
      "42 = 5 + 37\n"
     ]
    }
   ],
   "source": [
    "# 최댓값 = 1000000\n",
    "Max = 1000000\n",
    "# 에라토스테네스의 체 초기화: n개 요소에 True 설정(소수로 간주)\n",
    "prime_list = [True] * (Max+1)\n",
    "\n",
    "for i in range(2, Max+1):\n",
    "        if prime_list[i] == True:        # i가 소수인 경우\n",
    "            for j in range(i+i, Max, i): # i이후 i의 배수들을 False 판정\n",
    "                prime_list[j] = False\n",
    "\n",
    "while True:\n",
    "    n = int(input())\n",
    "    if (n==0):\n",
    "        break\n",
    "        \n",
    "    a, b = 0, 0\n",
    "    is_prime = None\n",
    "    for i in range(2, Max):\n",
    "        if prime_list[i] and prime_list[n-i]:\n",
    "            is_prime = True\n",
    "            a = i\n",
    "            b = n-i\n",
    "            break\n",
    "    \n",
    "    if is_prime:\n",
    "        print(n, '=', a, '+', b)\n",
    "    else:\n",
    "        print(\"Goldbach's conjecture is wrong.\")"
   ]
  },
  {
   "cell_type": "code",
   "execution_count": null,
   "id": "6d944637",
   "metadata": {},
   "outputs": [],
   "source": []
  }
 ],
 "metadata": {
  "kernelspec": {
   "display_name": "Python 3 (ipykernel)",
   "language": "python",
   "name": "python3"
  },
  "language_info": {
   "codemirror_mode": {
    "name": "ipython",
    "version": 3
   },
   "file_extension": ".py",
   "mimetype": "text/x-python",
   "name": "python",
   "nbconvert_exporter": "python",
   "pygments_lexer": "ipython3",
   "version": "3.9.7"
  }
 },
 "nbformat": 4,
 "nbformat_minor": 5
}
