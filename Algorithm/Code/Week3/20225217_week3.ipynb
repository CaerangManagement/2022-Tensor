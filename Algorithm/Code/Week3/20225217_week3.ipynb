{
  "nbformat": 4,
  "nbformat_minor": 0,
  "metadata": {
    "colab": {
      "name": "20225217_week3.ipynb",
      "provenance": [],
      "collapsed_sections": []
    },
    "kernelspec": {
      "name": "python3",
      "display_name": "Python 3"
    },
    "language_info": {
      "name": "python"
    }
  },
  "cells": [
    {
      "cell_type": "code",
      "execution_count": 7,
      "metadata": {
        "id": "Gu8hC4Sn2QNv",
        "colab": {
          "base_uri": "https://localhost:8080/"
        },
        "outputId": "173bbacd-92c4-4bbb-cb1c-365c06b48b8f"
      },
      "outputs": [
        {
          "output_type": "stream",
          "name": "stdout",
          "text": [
            "시험장의 개수 : 1\n",
            "시험장에 있는 응시자의 수 : 1\n",
            "감시할 수 있는 응시자의 수 : 1 1\n",
            "1\n"
          ]
        }
      ],
      "source": [
        "#20225217 이신우\n",
        "#1 \n",
        "N = int(input(\"시험장의 개수 : \"))\n",
        "Ai = list(map(int, input(\"시험장에 있는 응시자의 수 : \").split())) # 입력받은 것들을 리스트화 한다.\n",
        "Head, Sub = map(int,input(\"감시할 수 있는 응시자의 수 : \").split())   \n",
        "\n",
        "result = N\n",
        "\n",
        "for i in range(N):\n",
        "    Ai[i] -= Head\n",
        "    if Ai[i] > 0:\n",
        "        if Ai[i]%Sub > 0:\n",
        "            result += Ai[i]//Sub + 1\n",
        "        else:\n",
        "            result += Ai[i]//Sub\n",
        "print(result)"
      ]
    },
    {
      "cell_type": "code",
      "source": [
        "#20225217 이신우\n",
        "#2\n",
        "n = int(input())\n",
        "arr=[]\n",
        "for i in range(n):\n",
        "    a,b = map(int,input().split())\n",
        "    arr.append((a,b))\n",
        "arr.sort()\n",
        "for i in range(n):\n",
        "    print(arr[i][0],arr[i][1])\n",
        "\n"
      ],
      "metadata": {
        "id": "TGqBvcDg9fsX",
        "colab": {
          "base_uri": "https://localhost:8080/"
        },
        "outputId": "fcebab4b-90f4-4827-f947-7bd21ce36077"
      },
      "execution_count": 8,
      "outputs": [
        {
          "output_type": "stream",
          "name": "stdout",
          "text": [
            "5\n",
            "3 4\n",
            "1 1\n",
            "1 -1\n",
            "2 2\n",
            "3 3\n",
            "1 -1\n",
            "1 1\n",
            "2 2\n",
            "3 3\n",
            "3 4\n"
          ]
        }
      ]
    },
    {
      "cell_type": "code",
      "source": [
        ""
      ],
      "metadata": {
        "id": "G6pRcauuGJbD"
      },
      "execution_count": null,
      "outputs": []
    },
    {
      "cell_type": "code",
      "source": [
        ""
      ],
      "metadata": {
        "id": "yd651YIOGxQm"
      },
      "execution_count": null,
      "outputs": []
    }
  ]
}