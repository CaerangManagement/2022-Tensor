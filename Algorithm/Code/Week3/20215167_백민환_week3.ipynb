{
 "cells": [
  {
   "cell_type": "code",
   "execution_count": 1,
   "id": "67685fa1-9394-4bfa-a877-e8167222087c",
   "metadata": {},
   "outputs": [
    {
     "name": "stdin",
     "output_type": "stream",
     "text": [
      " 1\n",
      " 1\n",
      " 1 1\n"
     ]
    },
    {
     "name": "stdout",
     "output_type": "stream",
     "text": [
      "1\n"
     ]
    }
   ],
   "source": [
    "n = int(input())\n",
    "Ai = int(input())\n",
    "b,c = input().split()\n",
    "a=0\n",
    "b = int(b)\n",
    "c = int(c)  \n",
    "if(n*b<Ai):\n",
    "  print((Ai/n-b)/c+1)\n",
    "else:\n",
    "  print(n)"
   ]
  },
  {
   "cell_type": "code",
   "execution_count": 5,
   "id": "ea8486a4-674b-4fd3-ba32-94b762ccc846",
   "metadata": {},
   "outputs": [
    {
     "name": "stdin",
     "output_type": "stream",
     "text": [
      " 5\n",
      " 3 4\n",
      " 1 1\n",
      " 1 -1\n",
      " 2 2\n",
      " 3 3\n"
     ]
    },
    {
     "name": "stdout",
     "output_type": "stream",
     "text": [
      "1 1\n",
      "1 -1\n",
      "2 2\n",
      "3 4\n",
      "3 3\n"
     ]
    }
   ],
   "source": [
    "z = int(input())\n",
    "list=[]\n",
    "list1=[]\n",
    "list2=[]\n",
    "for i in range(z):\n",
    "  x,y = input().split()\n",
    "  x = int(x)\n",
    "  y = int(y) \n",
    "  list.append(x)\n",
    "  list.extend([y])\n",
    "for i in range(len(list)):\n",
    "  if(i%2==0):\n",
    "    list1.append(list[i])\n",
    "  else:\n",
    "    list2.append(list[i])\n",
    "\n",
    "temp=0\n",
    "for j in range(len(list1)):\n",
    "  for i in range(len(list1)):\n",
    "    if(list1[j]<list1[i]):\n",
    "      temp=list1[j]\n",
    "      list1[j]=list1[i]\n",
    "      list1[i]=temp\n",
    "      temp=list2[j]\n",
    "      list2[j]=list2[i]\n",
    "      list2[i]=temp\n",
    "\n",
    "\n",
    "for j in range(len(list1)):\n",
    "  for i in range(len(list1)):\n",
    "    if(list1[j]==list1[i]and list2[j]<list2[j]):\n",
    "      temp=list2[j]\n",
    "      list2[j]=list2[i]\n",
    "      list2[i]=temp\n",
    "  \n",
    "for i in range(len(list1)):\n",
    "  print(list1[i],end=' ')\n",
    "  print(list2[i],end='\\n')"
   ]
  },
  {
   "cell_type": "code",
   "execution_count": null,
   "id": "b15a4008-22dc-4321-9418-a76b1a76e262",
   "metadata": {},
   "outputs": [],
   "source": []
  }
 ],
 "metadata": {
  "kernelspec": {
   "display_name": "Python 3",
   "language": "python",
   "name": "python3"
  },
  "language_info": {
   "codemirror_mode": {
    "name": "ipython",
    "version": 3
   },
   "file_extension": ".py",
   "mimetype": "text/x-python",
   "name": "python",
   "nbconvert_exporter": "python",
   "pygments_lexer": "ipython3",
   "version": "3.8.8"
  }
 },
 "nbformat": 4,
 "nbformat_minor": 5
}
