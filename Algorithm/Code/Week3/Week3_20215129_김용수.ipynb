{
 "cells": [
  {
   "cell_type": "markdown",
   "id": "819c4141-2f13-428b-ac8d-0af79a4410fc",
   "metadata": {},
   "source": [
    "# 문제1"
   ]
  },
  {
   "cell_type": "code",
   "execution_count": 4,
   "id": "11413829-95c6-432b-98cb-239e942931ef",
   "metadata": {},
   "outputs": [
    {
     "name": "stdin",
     "output_type": "stream",
     "text": [
      " 5\n",
      " 1000000 1000000 1000000 1000000 1000000\n",
      " 5 7\n"
     ]
    },
    {
     "name": "stdout",
     "output_type": "stream",
     "text": [
      "714290\n"
     ]
    }
   ],
   "source": [
    "n = int(input())\n",
    "a = list(map(int, input().split()))\n",
    "b, c = map(int, input().split())\n",
    "re = 0\n",
    "\n",
    "for l in a:\n",
    "    l -= b\n",
    "    re += 1\n",
    "    \n",
    "    if l > 0:\n",
    "        re += l // c\n",
    "        if l % c > 0:\n",
    "            re += 1\n",
    "\n",
    "print(re)"
   ]
  },
  {
   "cell_type": "markdown",
   "id": "8f0f654a-7098-4799-b447-5eb06f587302",
   "metadata": {},
   "source": [
    "# 문제2"
   ]
  },
  {
   "cell_type": "code",
   "execution_count": 7,
   "id": "545e69d4-b5c2-4121-ad37-96c09601d520",
   "metadata": {},
   "outputs": [
    {
     "name": "stdin",
     "output_type": "stream",
     "text": [
      " 5\n",
      " 3 4\n",
      " 1 1\n",
      " 1 -1\n",
      " 2 2\n",
      " 3 3\n"
     ]
    },
    {
     "name": "stdout",
     "output_type": "stream",
     "text": [
      "1 -1\n",
      "1 1\n",
      "2 2\n",
      "3 3\n",
      "3 4\n"
     ]
    }
   ],
   "source": [
    "n = int(input())\n",
    "\n",
    "for l in sorted([list(map(int, input().split())) for _ in range(n)], key = lambda x: (x[0], x[1])):\n",
    "    print(l[0], l[1])"
   ]
  }
 ],
 "metadata": {
  "kernelspec": {
   "display_name": "Python 3",
   "language": "python",
   "name": "python3"
  },
  "language_info": {
   "codemirror_mode": {
    "name": "ipython",
    "version": 3
   },
   "file_extension": ".py",
   "mimetype": "text/x-python",
   "name": "python",
   "nbconvert_exporter": "python",
   "pygments_lexer": "ipython3",
   "version": "3.8.8"
  }
 },
 "nbformat": 4,
 "nbformat_minor": 5
}
